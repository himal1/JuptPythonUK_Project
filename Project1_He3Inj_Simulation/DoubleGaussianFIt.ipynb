{
 "cells": [
  {
   "cell_type": "code",
   "execution_count": 1,
   "id": "401cffc2",
   "metadata": {},
   "outputs": [],
   "source": [
    "import numpy as np\n",
    "from scipy import optimize\n",
    "from scipy.optimize import curve_fit\n",
    "import pandas as pd\n",
    "import matplotlib.pyplot as plt\n",
    "from scipy.stats import norm"
   ]
  },
  {
   "cell_type": "code",
   "execution_count": 2,
   "id": "caa3a90e",
   "metadata": {},
   "outputs": [],
   "source": [
    "def gauss1(x, A, mu, sigma):\n",
    "    y=A*np.exp(-(x-mu)**2/(2.*sigma**2))\n",
    "    return y\n",
    "def gauss2(x, A, mu, sigma):\n",
    "    y=A*np.exp(-(x-mu)**2/(2.*sigma**2))\n",
    "    return y\n",
    "\n",
    "def double_gauss (x, A, B, mu1, sigma1, mu2, sigma2):\n",
    "    y= A*np.exp(-(x-mu1)**2/(2.*sigma1**2)) + B*np.exp(-(x-mu2)**2/(2.*sigma2**2))\n",
    "    return y\n"
   ]
  },
  {
   "cell_type": "code",
   "execution_count": 3,
   "id": "46c15e21",
   "metadata": {},
   "outputs": [],
   "source": [
    "#Cylin='/mnt/c/Users/Christopher Crawford/Desktop/ShimOnlyFinalDim_v2.txt'\n",
    "#Cylin='/mnt/c/Users/Christopher Crawford/Desktop/StLineSimOnly.txt'\n",
    "#Cylin='/mnt/c/Users/Christopher Crawford/Desktop/StLineFinalDimShimOnly.txt'\n",
    "Cylin='/mnt/c/Users/Christopher Crawford/Desktop/StLineFinalShimOnlyDim_Final.txt'\n"
   ]
  },
  {
   "cell_type": "code",
   "execution_count": 4,
   "id": "24fdbda1",
   "metadata": {},
   "outputs": [],
   "source": [
    "pc=pd.read_csv(Cylin,delim_whitespace=True)\n",
    "T_Cy1 = pd.DataFrame(pc)\n",
    "T_Cy=T_Cy1.dropna()\n",
    "T_Cy=T_Cy.reset_index(drop=True)"
   ]
  },
  {
   "cell_type": "code",
   "execution_count": 5,
   "id": "cc1e91ac",
   "metadata": {},
   "outputs": [
    {
     "data": {
      "text/plain": [
       "False"
      ]
     },
     "execution_count": 5,
     "metadata": {},
     "output_type": "execute_result"
    }
   ],
   "source": [
    "T_Cy[\"x\"]=T_Cy[\"x\"]*100\n",
    "T_Cy[\"y\"]=T_Cy[\"y\"]*100\n",
    "T_Cy[\"z\"]=T_Cy[\"z\"]*100\n",
    "\n",
    "T_Cy=T_Cy.round(4)\n",
    "T_Cy.duplicated().any()"
   ]
  },
  {
   "cell_type": "code",
   "execution_count": 6,
   "id": "81e9e7d4",
   "metadata": {},
   "outputs": [
    {
     "data": {
      "text/html": [
       "<div>\n",
       "<style scoped>\n",
       "    .dataframe tbody tr th:only-of-type {\n",
       "        vertical-align: middle;\n",
       "    }\n",
       "\n",
       "    .dataframe tbody tr th {\n",
       "        vertical-align: top;\n",
       "    }\n",
       "\n",
       "    .dataframe thead th {\n",
       "        text-align: right;\n",
       "    }\n",
       "</style>\n",
       "<table border=\"1\" class=\"dataframe\">\n",
       "  <thead>\n",
       "    <tr style=\"text-align: right;\">\n",
       "      <th></th>\n",
       "      <th>x</th>\n",
       "      <th>y</th>\n",
       "      <th>z</th>\n",
       "      <th>Bx</th>\n",
       "      <th>By</th>\n",
       "      <th>Bz</th>\n",
       "    </tr>\n",
       "  </thead>\n",
       "  <tbody>\n",
       "    <tr>\n",
       "      <th>0</th>\n",
       "      <td>0.01</td>\n",
       "      <td>0.01</td>\n",
       "      <td>50.0</td>\n",
       "      <td>-0.0031</td>\n",
       "      <td>0.0031</td>\n",
       "      <td>0.0000</td>\n",
       "    </tr>\n",
       "    <tr>\n",
       "      <th>1</th>\n",
       "      <td>0.11</td>\n",
       "      <td>0.01</td>\n",
       "      <td>50.0</td>\n",
       "      <td>-0.0333</td>\n",
       "      <td>0.0030</td>\n",
       "      <td>-0.0006</td>\n",
       "    </tr>\n",
       "    <tr>\n",
       "      <th>2</th>\n",
       "      <td>0.21</td>\n",
       "      <td>0.01</td>\n",
       "      <td>50.0</td>\n",
       "      <td>-0.0635</td>\n",
       "      <td>0.0030</td>\n",
       "      <td>-0.0021</td>\n",
       "    </tr>\n",
       "    <tr>\n",
       "      <th>3</th>\n",
       "      <td>0.31</td>\n",
       "      <td>0.01</td>\n",
       "      <td>50.0</td>\n",
       "      <td>-0.0939</td>\n",
       "      <td>0.0027</td>\n",
       "      <td>-0.0045</td>\n",
       "    </tr>\n",
       "    <tr>\n",
       "      <th>4</th>\n",
       "      <td>0.41</td>\n",
       "      <td>0.01</td>\n",
       "      <td>50.0</td>\n",
       "      <td>-0.1245</td>\n",
       "      <td>0.0030</td>\n",
       "      <td>-0.0079</td>\n",
       "    </tr>\n",
       "    <tr>\n",
       "      <th>...</th>\n",
       "      <td>...</td>\n",
       "      <td>...</td>\n",
       "      <td>...</td>\n",
       "      <td>...</td>\n",
       "      <td>...</td>\n",
       "      <td>...</td>\n",
       "    </tr>\n",
       "    <tr>\n",
       "      <th>1302089</th>\n",
       "      <td>6.91</td>\n",
       "      <td>6.91</td>\n",
       "      <td>100.0</td>\n",
       "      <td>-0.1571</td>\n",
       "      <td>0.1571</td>\n",
       "      <td>0.0000</td>\n",
       "    </tr>\n",
       "    <tr>\n",
       "      <th>1302090</th>\n",
       "      <td>7.01</td>\n",
       "      <td>6.91</td>\n",
       "      <td>100.0</td>\n",
       "      <td>-0.1592</td>\n",
       "      <td>0.1571</td>\n",
       "      <td>0.0000</td>\n",
       "    </tr>\n",
       "    <tr>\n",
       "      <th>1302091</th>\n",
       "      <td>6.81</td>\n",
       "      <td>7.01</td>\n",
       "      <td>100.0</td>\n",
       "      <td>-0.1551</td>\n",
       "      <td>0.1593</td>\n",
       "      <td>-0.0001</td>\n",
       "    </tr>\n",
       "    <tr>\n",
       "      <th>1302092</th>\n",
       "      <td>6.91</td>\n",
       "      <td>7.01</td>\n",
       "      <td>100.0</td>\n",
       "      <td>-0.1572</td>\n",
       "      <td>0.1593</td>\n",
       "      <td>-0.0000</td>\n",
       "    </tr>\n",
       "    <tr>\n",
       "      <th>1302093</th>\n",
       "      <td>7.01</td>\n",
       "      <td>7.01</td>\n",
       "      <td>100.0</td>\n",
       "      <td>-0.1592</td>\n",
       "      <td>0.1592</td>\n",
       "      <td>0.0000</td>\n",
       "    </tr>\n",
       "  </tbody>\n",
       "</table>\n",
       "<p>1302094 rows × 6 columns</p>\n",
       "</div>"
      ],
      "text/plain": [
       "            x     y      z      Bx      By      Bz\n",
       "0        0.01  0.01   50.0 -0.0031  0.0031  0.0000\n",
       "1        0.11  0.01   50.0 -0.0333  0.0030 -0.0006\n",
       "2        0.21  0.01   50.0 -0.0635  0.0030 -0.0021\n",
       "3        0.31  0.01   50.0 -0.0939  0.0027 -0.0045\n",
       "4        0.41  0.01   50.0 -0.1245  0.0030 -0.0079\n",
       "...       ...   ...    ...     ...     ...     ...\n",
       "1302089  6.91  6.91  100.0 -0.1571  0.1571  0.0000\n",
       "1302090  7.01  6.91  100.0 -0.1592  0.1571  0.0000\n",
       "1302091  6.81  7.01  100.0 -0.1551  0.1593 -0.0001\n",
       "1302092  6.91  7.01  100.0 -0.1572  0.1593 -0.0000\n",
       "1302093  7.01  7.01  100.0 -0.1592  0.1592  0.0000\n",
       "\n",
       "[1302094 rows x 6 columns]"
      ]
     },
     "execution_count": 6,
     "metadata": {},
     "output_type": "execute_result"
    }
   ],
   "source": [
    "T_Cy"
   ]
  },
  {
   "cell_type": "code",
   "execution_count": 7,
   "id": "f49f7624",
   "metadata": {},
   "outputs": [
    {
     "data": {
      "text/plain": [
       "<matplotlib.collections.PathCollection at 0x7f19504882b0>"
      ]
     },
     "execution_count": 7,
     "metadata": {},
     "output_type": "execute_result"
    },
    {
     "data": {
      "image/png": "[encoded data removed]",
      "text/plain": [
       "<Figure size 432x288 with 1 Axes>"
      ]
     },
     "metadata": {
      "needs_background": "light"
     },
     "output_type": "display_data"
    }
   ],
   "source": [
    "#plot the selected data\n",
    "df = T_Cy.loc[(abs(T_Cy['x']) == 0.11) & (abs(T_Cy['y']) == 0.11) & (abs(T_Cy['z']) > 55) & (abs(T_Cy['z']) < 75)  ]\n",
    "#plt.ylim(3,4)\n",
    "plt.scatter(df[\"z\"],df[\"Bx\"], color='r')"
   ]
  },
  {
   "cell_type": "code",
   "execution_count": 8,
   "id": "4a4f32a6",
   "metadata": {},
   "outputs": [],
   "source": [
    "# curve fit\n",
    "parameters, covariance = curve_fit(double_gauss, df['z'], df['Bx'],[100, 50, 65, 1.5, 63., 0.69])"
   ]
  },
  {
   "cell_type": "code",
   "execution_count": 10,
   "id": "a1fa4f69",
   "metadata": {},
   "outputs": [
    {
     "name": "stdout",
     "output_type": "stream",
     "text": [
      "119.67659508015512 211.44793366774178 64.51185112957822 1.1173652060714734 63.91358860909432 0.503095353076727\n"
     ]
    }
   ],
   "source": [
    "fit_A = parameters[0]\n",
    "fit_B = parameters[1]\n",
    "fit_C = parameters[2]\n",
    "fit_D = parameters[3]\n",
    "fit_E = parameters[4]\n",
    "fit_F = parameters[5]\n",
    "print(fit_A,fit_B,fit_C,fit_D,fit_E,fit_F)"
   ]
  },
  {
   "cell_type": "code",
   "execution_count": 11,
   "id": "4efa1137",
   "metadata": {},
   "outputs": [
    {
     "data": {
      "text/plain": [
       "<matplotlib.legend.Legend at 0x7f194c3a9820>"
      ]
     },
     "execution_count": 11,
     "metadata": {},
     "output_type": "execute_result"
    },
    {
     "data": {
      "image/png": "[encoded data removed]",
      "text/plain": [
       "<Figure size 432x288 with 1 Axes>"
      ]
     },
     "metadata": {
      "needs_background": "light"
     },
     "output_type": "display_data"
    }
   ],
   "source": [
    "fit_y = double_gauss(df['z'], fit_A, fit_B, fit_C,fit_D,fit_E,fit_F)\n",
    "\n",
    "plt.plot(df['z'], df['Bx'], 'o', label='data')\n",
    "plt.plot(df['z'], fit_y, '-', label='fit_Total',lw=3)\n",
    "plt.legend()"
   ]
  },
  {
   "cell_type": "code",
   "execution_count": null,
   "id": "22c70bb5",
   "metadata": {},
   "outputs": [],
   "source": []
  },
  {
   "cell_type": "code",
   "execution_count": null,
   "id": "e8b8a16e",
   "metadata": {},
   "outputs": [],
   "source": []
  }
 ],
 "metadata": {
  "kernelspec": {
   "display_name": "Python 3 (ipykernel)",
   "language": "python",
   "name": "python3"
  },
  "language_info": {
   "codemirror_mode": {
    "name": "ipython",
    "version": 3
   },
   "file_extension": ".py",
   "mimetype": "text/x-python",
   "name": "python",
   "nbconvert_exporter": "python",
   "pygments_lexer": "ipython3",
   "version": "3.8.10"
  }
 },
 "nbformat": 4,
 "nbformat_minor": 5
}
