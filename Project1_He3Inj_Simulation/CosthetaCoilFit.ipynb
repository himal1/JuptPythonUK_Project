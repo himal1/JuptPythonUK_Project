{
 "cells": [
  {
   "cell_type": "code",
   "execution_count": 5,
   "id": "19c8489e",
   "metadata": {},
   "outputs": [],
   "source": [
    "import numpy as np\n",
    "from scipy import optimize\n",
    "from scipy.optimize import curve_fit\n",
    "import pandas as pd\n",
    "import matplotlib.pyplot as plt\n",
    "from scipy.stats import norm"
   ]
  },
  {
   "cell_type": "code",
   "execution_count": 44,
   "id": "b8ac4cbd",
   "metadata": {},
   "outputs": [],
   "source": [
    "def double_gauss (x, A, B, mu1, sigma1, mu2, sigma2):\n",
    "    y= A*np.exp(-(x-mu1)**2/(2.*sigma1**2)) + B*np.exp(-(x-mu2)**2/(2.*sigma2**2))\n",
    "    return y\n",
    "\n",
    "def CosthetaFnc (x, A):\n",
    "    y=A*r_in**5/((r_in**2 + x**2)**1.5 + (len**2-((r_out-r_in)/2)**2)**1.5 )**(5/3)\n",
    "    return y\n"
   ]
  },
  {
   "cell_type": "code",
   "execution_count": 3,
   "id": "9c34263c",
   "metadata": {},
   "outputs": [],
   "source": [
    "#Cylin='/mnt/c/Users/Christopher Crawford/Desktop/ShimOnlyFinalDim_v2.txt'\n",
    "#Cylin='/mnt/c/Users/Christopher Crawford/Desktop/StLineSimOnly.txt'\n",
    "Cylin='/mnt/c/Users/Christopher Crawford/Desktop/StLineFinal_CosthetaOnlyDim_Final.txt'"
   ]
  },
  {
   "cell_type": "code",
   "execution_count": 7,
   "id": "c0f3f2fb",
   "metadata": {},
   "outputs": [],
   "source": [
    "pc=pd.read_csv(Cylin,delim_whitespace=True)\n",
    "T_Cy1 = pd.DataFrame(pc)\n",
    "T_Cy=T_Cy1.dropna()\n",
    "T_Cy=T_Cy.reset_index(drop=True)"
   ]
  },
  {
   "cell_type": "code",
   "execution_count": 8,
   "id": "4fee4abd",
   "metadata": {},
   "outputs": [
    {
     "data": {
      "text/plain": [
       "False"
      ]
     },
     "execution_count": 8,
     "metadata": {},
     "output_type": "execute_result"
    }
   ],
   "source": [
    "T_Cy[\"x\"]=T_Cy[\"x\"]\n",
    "T_Cy[\"y\"]=T_Cy[\"y\"]\n",
    "T_Cy[\"z\"]=T_Cy[\"z\"]\n",
    "\n",
    "T_Cy=T_Cy.round(4)\n",
    "T_Cy.duplicated().any()"
   ]
  },
  {
   "cell_type": "code",
   "execution_count": 9,
   "id": "d82e091d",
   "metadata": {},
   "outputs": [
    {
     "data": {
      "text/html": [
       "<div>\n",
       "<style scoped>\n",
       "    .dataframe tbody tr th:only-of-type {\n",
       "        vertical-align: middle;\n",
       "    }\n",
       "\n",
       "    .dataframe tbody tr th {\n",
       "        vertical-align: top;\n",
       "    }\n",
       "\n",
       "    .dataframe thead th {\n",
       "        text-align: right;\n",
       "    }\n",
       "</style>\n",
       "<table border=\"1\" class=\"dataframe\">\n",
       "  <thead>\n",
       "    <tr style=\"text-align: right;\">\n",
       "      <th></th>\n",
       "      <th>x</th>\n",
       "      <th>y</th>\n",
       "      <th>z</th>\n",
       "      <th>Bx</th>\n",
       "      <th>By</th>\n",
       "      <th>Bz</th>\n",
       "    </tr>\n",
       "  </thead>\n",
       "  <tbody>\n",
       "    <tr>\n",
       "      <th>0</th>\n",
       "      <td>5.0</td>\n",
       "      <td>-0.3</td>\n",
       "      <td>-20.0</td>\n",
       "      <td>0.2345</td>\n",
       "      <td>0.0051</td>\n",
       "      <td>0.1544</td>\n",
       "    </tr>\n",
       "    <tr>\n",
       "      <th>1</th>\n",
       "      <td>-0.2</td>\n",
       "      <td>-0.2</td>\n",
       "      <td>-20.0</td>\n",
       "      <td>0.3916</td>\n",
       "      <td>0.0004</td>\n",
       "      <td>-0.0033</td>\n",
       "    </tr>\n",
       "    <tr>\n",
       "      <th>2</th>\n",
       "      <td>-0.1</td>\n",
       "      <td>-0.2</td>\n",
       "      <td>-20.0</td>\n",
       "      <td>0.3908</td>\n",
       "      <td>0.0004</td>\n",
       "      <td>0.0002</td>\n",
       "    </tr>\n",
       "    <tr>\n",
       "      <th>3</th>\n",
       "      <td>0.0</td>\n",
       "      <td>-0.2</td>\n",
       "      <td>-20.0</td>\n",
       "      <td>0.3901</td>\n",
       "      <td>0.0004</td>\n",
       "      <td>0.0038</td>\n",
       "    </tr>\n",
       "    <tr>\n",
       "      <th>4</th>\n",
       "      <td>0.1</td>\n",
       "      <td>-0.2</td>\n",
       "      <td>-20.0</td>\n",
       "      <td>0.3894</td>\n",
       "      <td>0.0004</td>\n",
       "      <td>0.0073</td>\n",
       "    </tr>\n",
       "    <tr>\n",
       "      <th>...</th>\n",
       "      <td>...</td>\n",
       "      <td>...</td>\n",
       "      <td>...</td>\n",
       "      <td>...</td>\n",
       "      <td>...</td>\n",
       "      <td>...</td>\n",
       "    </tr>\n",
       "    <tr>\n",
       "      <th>550934</th>\n",
       "      <td>4.6</td>\n",
       "      <td>5.0</td>\n",
       "      <td>20.0</td>\n",
       "      <td>0.2207</td>\n",
       "      <td>-0.0778</td>\n",
       "      <td>-0.1202</td>\n",
       "    </tr>\n",
       "    <tr>\n",
       "      <th>550935</th>\n",
       "      <td>4.7</td>\n",
       "      <td>5.0</td>\n",
       "      <td>20.0</td>\n",
       "      <td>0.2179</td>\n",
       "      <td>-0.0809</td>\n",
       "      <td>-0.1234</td>\n",
       "    </tr>\n",
       "    <tr>\n",
       "      <th>550936</th>\n",
       "      <td>4.8</td>\n",
       "      <td>5.0</td>\n",
       "      <td>20.0</td>\n",
       "      <td>0.2136</td>\n",
       "      <td>-0.0824</td>\n",
       "      <td>-0.1250</td>\n",
       "    </tr>\n",
       "    <tr>\n",
       "      <th>550937</th>\n",
       "      <td>4.9</td>\n",
       "      <td>5.0</td>\n",
       "      <td>20.0</td>\n",
       "      <td>0.2093</td>\n",
       "      <td>-0.0839</td>\n",
       "      <td>-0.1265</td>\n",
       "    </tr>\n",
       "    <tr>\n",
       "      <th>550938</th>\n",
       "      <td>5.0</td>\n",
       "      <td>5.0</td>\n",
       "      <td>20.0</td>\n",
       "      <td>0.2050</td>\n",
       "      <td>-0.0854</td>\n",
       "      <td>-0.1281</td>\n",
       "    </tr>\n",
       "  </tbody>\n",
       "</table>\n",
       "<p>550939 rows × 6 columns</p>\n",
       "</div>"
      ],
      "text/plain": [
       "          x    y     z      Bx      By      Bz\n",
       "0       5.0 -0.3 -20.0  0.2345  0.0051  0.1544\n",
       "1      -0.2 -0.2 -20.0  0.3916  0.0004 -0.0033\n",
       "2      -0.1 -0.2 -20.0  0.3908  0.0004  0.0002\n",
       "3       0.0 -0.2 -20.0  0.3901  0.0004  0.0038\n",
       "4       0.1 -0.2 -20.0  0.3894  0.0004  0.0073\n",
       "...     ...  ...   ...     ...     ...     ...\n",
       "550934  4.6  5.0  20.0  0.2207 -0.0778 -0.1202\n",
       "550935  4.7  5.0  20.0  0.2179 -0.0809 -0.1234\n",
       "550936  4.8  5.0  20.0  0.2136 -0.0824 -0.1250\n",
       "550937  4.9  5.0  20.0  0.2093 -0.0839 -0.1265\n",
       "550938  5.0  5.0  20.0  0.2050 -0.0854 -0.1281\n",
       "\n",
       "[550939 rows x 6 columns]"
      ]
     },
     "execution_count": 9,
     "metadata": {},
     "output_type": "execute_result"
    }
   ],
   "source": [
    "T_Cy"
   ]
  },
  {
   "cell_type": "code",
   "execution_count": 17,
   "id": "45f12911",
   "metadata": {},
   "outputs": [],
   "source": [
    "r_in=7\n",
    "r_out=13\n",
    "len=9"
   ]
  },
  {
   "cell_type": "code",
   "execution_count": 16,
   "id": "92d953ba",
   "metadata": {},
   "outputs": [
    {
     "data": {
      "text/plain": [
       "<matplotlib.collections.PathCollection at 0x7f8c1dd9c1c0>"
      ]
     },
     "execution_count": 16,
     "metadata": {},
     "output_type": "execute_result"
    },
    {
     "data": {
      "image/png": "[encoded data removed]",
      "text/plain": [
       "<Figure size 432x288 with 1 Axes>"
      ]
     },
     "metadata": {
      "needs_background": "light"
     },
     "output_type": "display_data"
    }
   ],
   "source": [
    "#plot the selected data\n",
    "df = T_Cy.loc[(abs(T_Cy['x']) == 1.0) & (abs(T_Cy['y']) == 1.0) & (abs(T_Cy['z']) > -20) & (abs(T_Cy['z']) < 20)  ]\n",
    "#plt.ylim(3,4)\n",
    "plt.scatter(df[\"z\"],df[\"Bx\"], color='r')"
   ]
  },
  {
   "cell_type": "code",
   "execution_count": 45,
   "id": "248d2b18",
   "metadata": {},
   "outputs": [],
   "source": [
    "# curve fit\n",
    "parameters, covariance = curve_fit(CosthetaFnc, df['z'], df['Bx'],[100])"
   ]
  },
  {
   "cell_type": "code",
   "execution_count": 46,
   "id": "fa7536ed",
   "metadata": {},
   "outputs": [
    {
     "name": "stdout",
     "output_type": "stream",
     "text": [
      "88.07631467487207\n"
     ]
    }
   ],
   "source": [
    "fit_A = parameters[0]\n",
    "#fit_B = parameters[1]\n",
    "#fit_C = parameters[2]\n",
    "\n",
    "print(fit_A)"
   ]
  },
  {
   "cell_type": "code",
   "execution_count": 48,
   "id": "e1f13aeb",
   "metadata": {},
   "outputs": [
    {
     "data": {
      "text/plain": [
       "<matplotlib.legend.Legend at 0x7f8c1b7459a0>"
      ]
     },
     "execution_count": 48,
     "metadata": {},
     "output_type": "execute_result"
    },
    {
     "data": {
      "image/png": "[encoded data removed]",
      "text/plain": [
       "<Figure size 432x288 with 1 Axes>"
      ]
     },
     "metadata": {
      "needs_background": "light"
     },
     "output_type": "display_data"
    }
   ],
   "source": [
    "fit_y = CosthetaFnc(df['z'], fit_A)\n",
    "\n",
    "plt.plot(df['z'], df['Bx'], 'o', label='data')\n",
    "plt.plot(df['z'], fit_y, '-', label='fit_Total',lw=3)\n",
    "plt.legend()"
   ]
  },
  {
   "cell_type": "code",
   "execution_count": null,
   "id": "a521c656",
   "metadata": {},
   "outputs": [],
   "source": []
  },
  {
   "cell_type": "code",
   "execution_count": null,
   "id": "f11a28cc",
   "metadata": {},
   "outputs": [],
   "source": []
  }
 ],
 "metadata": {
  "kernelspec": {
   "display_name": "Python 3 (ipykernel)",
   "language": "python",
   "name": "python3"
  },
  "language_info": {
   "codemirror_mode": {
    "name": "ipython",
    "version": 3
   },
   "file_extension": ".py",
   "mimetype": "text/x-python",
   "name": "python",
   "nbconvert_exporter": "python",
   "pygments_lexer": "ipython3",
   "version": "3.8.10"
  }
 },
 "nbformat": 4,
 "nbformat_minor": 5
}
