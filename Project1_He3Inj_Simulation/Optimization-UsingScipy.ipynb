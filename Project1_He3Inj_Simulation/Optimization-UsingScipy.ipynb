{
 "cells": [
  {
   "cell_type": "markdown",
   "id": "806c185f",
   "metadata": {},
   "source": [
    "# This program obtimizes the vaules of parameters used in the magnet systems\n"
   ]
  },
  {
   "cell_type": "markdown",
   "id": "25ea366b",
   "metadata": {},
   "source": [
    "The idea is to run the simulation to obtain polarization for many configurations and compre the polarization.<br>\n",
    "The details of the simulation is explianed in simulation program.<br>\n",
    "We can change this .ipynb file to .py file using:<br>\n",
    " jupyter nbconvert --to python Optimization.ipynb"
   ]
  },
  {
   "cell_type": "code",
   "execution_count": 1,
   "id": "0f380077",
   "metadata": {},
   "outputs": [],
   "source": [
    "import numpy as np\n",
    "import math\n",
    "import pandas as pd\n",
    "import matplotlib.pyplot as plt\n",
    "import random\n",
    "import scipy.integrate as spi\n",
    "from scipy.integrate import solve_ivp\n",
    "import warnings"
   ]
  },
  {
   "cell_type": "code",
   "execution_count": 2,
   "id": "8fa717d0",
   "metadata": {},
   "outputs": [],
   "source": [
    "#suppress warnings\n",
    "warnings.filterwarnings('ignore')"
   ]
  },
  {
   "cell_type": "markdown",
   "id": "7fc54b19",
   "metadata": {},
   "source": [
    "First define a function to obtain magnetic field"
   ]
  },
  {
   "cell_type": "code",
   "execution_count": 3,
   "id": "223f4449",
   "metadata": {},
   "outputs": [],
   "source": [
    "def ABC_Coil_CalculateB(x0,y0,z0,B2,B4,B5,B6):\n",
    "    z=z0\n",
    "    x=x0#0.55\n",
    "    y=y0#0.55\n",
    "    #zrange=zmax-zmin\n",
    "    #z=np.arange(zmin,zmax,zrange/2500)\n",
    "    #quadrupole and shim\n",
    "    z1=63.6;   dz1=0.53;    r1=0.75;                # center,roll-off,radius [cm]\n",
    "    zs=z1-5.25*2.54; zt=z1-.25*2.54; dzs=3.0;       # start,end,roll-off [cm]\n",
    "    B1= 7500; Bs=B1*0.30;                           # field [G]  (Bs=0: no shim)\n",
    "    vg=22000;\n",
    "    # small,large ring\n",
    "    z2=z1+7.0                      \n",
    "    r2=10;          \n",
    "    #B2=35;\n",
    "    z3=z2;                          \n",
    "    r3=15;          \n",
    "    B3=-B2*pow((r2/r3),3)\n",
    "    # top,bot of MSR\n",
    "    za=z2+74.4;     zb=za+40.4;\n",
    "    # small,large costheta\n",
    "    z4=z2+8.4;      dz4=3.2;        r4=10;          #B4=60;\n",
    "    z6=z2+60;       dz6=3.2;        r6=30;          #B6=2.5;\n",
    "    #more parameters\n",
    "    z5=250;                         r5=1.9;         #B5=0.03;\n",
    "    Bx5=z*0+B5;\n",
    "    Qxy=B1/r1/2*(1-np.tanh((z-z1)/dz1)) + Bs/r1/2*(np.tanh((z-zs)/dzs)-np.tanh((z-zt)/dzs));\n",
    "    dQxy=-B1/r1/2*pow((1/np.cosh((z-z1)/dz1)),2)/dz1 + Bs/r1/2*(pow((1/np.cosh((z-zs)/dzs)),2) - pow(1/np.cosh((z-zt)/dzs),2))/dzs\n",
    "    Bz2=B2*pow(r2,3)/pow((pow(r2,2)+pow((z-z2),2)),(3/2));\n",
    "    Bz3=B3*pow(r3,3)/pow((pow(r3,2)+pow((z-z3),2)),(3/2));\n",
    "    dBz2=-3*Bz2*(z-z2)/(pow(r2,2)+pow((z-z2),2));         #dBz/dz\n",
    "    dBz3=-3*Bz3*(z-z3)/(pow(r3,2)+pow((z-z3),2));         #dBz/dz\n",
    "    \n",
    "    Bx4=B4*pow(r4,5)/pow((pow((pow(r4,2)+pow((z-z4),2)),(3/2)) + pow((pow(r4,2)-pow(dz4,2)),(3/2))),(5/3));\n",
    "    Bx6=B6*pow(r6,5)/pow((pow((pow(r6,2)+pow((z-z6),2)),(3/2)) + pow((pow(r6,2)-pow(dz6,2)),(3/2))),(5/3));\n",
    "    dBx4=-5*Bx4/(pow((pow(r4,2)+pow((z-z4),2)),(3/2)) + pow((pow(r4,2)-pow(dz4,2)),(3/2)))*np.sqrt(pow(r4,2)+ pow((z-z4),2))*(z-z4);\n",
    "    dBx6=-5*Bx6/(pow((pow(r6,2)+pow((z-z6),2)),(3/2)) + pow((pow(r6,2)-pow(dz6,2)),(3/2)))*np.sqrt(pow(r6,2)+ pow((z-z6),2))*(z-z6);\n",
    "    Bx = Qxy*y - 1/2*(dBz2+dBz3)*x + Bx4 + Bx6 + B5;\n",
    "    By = Qxy*x - 1/2*(dBz2+dBz3)*y;\n",
    "    Bz = dQxy*x*y + (Bz2+Bz3) + (dBx4+dBx6)*x;\n",
    "    \n",
    "    B  = [Bx,By,Bz];\n",
    "    Bt=np.linalg.norm(B,axis=0);\n",
    "    \n",
    "    return B"
   ]
  },
  {
   "cell_type": "markdown",
   "id": "36b198d4",
   "metadata": {},
   "source": [
    "Now defiene a function to obtain magnetic field in certain time"
   ]
  },
  {
   "cell_type": "code",
   "execution_count": 1,
   "id": "0ab8d1a8",
   "metadata": {},
   "outputs": [],
   "source": [
    "def Btm(x0,v,t):\n",
    "    xt=[x0[0]+v[0]*t,x0[1]+v[1]*t,x0[2]+v[2]*t]\n",
    "    B1tt=ABC_Coil_CalculateB(xt[0],xt[1],xt[2],B2,B4,B5,B6);\n",
    "    return B1tt"
   ]
  },
  {
   "cell_type": "code",
   "execution_count": 2,
   "id": "2da546fc",
   "metadata": {},
   "outputs": [],
   "source": [
    "def fA(t,y):\n",
    "    return g*np.cross(y, Btm(x0,v,t,B2,B4,B5,B6))"
   ]
  },
  {
   "cell_type": "code",
   "execution_count": 3,
   "id": "21df9c09",
   "metadata": {},
   "outputs": [],
   "source": [
    "def PolSim(z0,z1,B2,B4,B5,B6,nev):\n",
    "    #B2=35;\n",
    "    #B4=60;\n",
    "    #B5=0.03;\n",
    "    #B6=2.5;\n",
    "    g=20378.9; v3=22000;\n",
    "    #z0=62.5;\n",
    "    r0=0.629;\n",
    "    #z1=250;\n",
    "    r1=5;\n",
    "    #nev=10;\n",
    "    div=(r1+r0)/(z1-z0);\n",
    "    Pol=[];\n",
    "    for n in range(1, nev):\n",
    "        #variables\n",
    "        rho=np.sqrt(random.random())*r0; \n",
    "        phi=random.random()*2*math.pi; # random position on entrance aperture\n",
    "        x0=[ rho*np.cos(phi), rho*np.sin(phi), z0 ]; \n",
    "        B0=ABC_Coil_CalculateB(x0[0],x0[1],x0[2],B2,B4,B5,B6);\n",
    "        #obtain norm of the magnetic field\n",
    "        B0t=np.linalg.norm(B0,axis=0);\n",
    "    \n",
    "        r=99999; \n",
    "        while(r>r1):  # choose random direction within exit aperture\n",
    "            ctheta=1-(1-np.cos(div))*random.random(); phi=random.random()*2*math.pi;\n",
    "            v1=(v3*math.sqrt(1-pow(ctheta,2))*np.cos(phi), v3*math.sqrt(1-pow(ctheta,2))*np.sin(phi), v3*ctheta );\n",
    "         \n",
    "            x1=np.array(x0)\n",
    "            v=np.array(v1)\n",
    "            t1=(z1-z0)/v[2];\n",
    "            x1=x0+(v*t1); \n",
    "            r=math.sqrt(x1[0]*x1[0] + x1[1]*x1[1]);\n",
    "        \n",
    "        B1  = ABC_Coil_CalculateB(x1[0],x1[1],x1[2],B2,B4,B5,B6);\n",
    "        B1t = np.linalg.norm(B1,axis=0);\n",
    "    \n",
    "        #solve bloch equation using build-in function \n",
    "        sol = solve_ivp(lambda t, y: g*np.cross(y, Btm(x0,v,t,B2,B4,B5,B6)), [0,t1], B0/B0t, method=\"RK45\", rtol = 1e-5)\n",
    "        #sol = solve_ivp(fA, [0,t1], B0/B0t, method=\"RK45\", rtol = 1e-5)\n",
    "    \n",
    "    \n",
    "        #obtain last elemet of the array from the ode solution\n",
    "        Mx=sol.y[0][-1]\n",
    "        My=sol.y[1][-1]\n",
    "        Mz=sol.y[2][-1]\n",
    "        #norm of output vector of the ode\n",
    "        Mn=np.sqrt(Mx**2+My**2+Mz**2)\n",
    "    \n",
    "        #polarization is given by \n",
    "        pol=(B1[0]*Mx+B1[1]*My+B1[2]*Mz)/(Mn*B1t)\n",
    "        Pol.append(pol)\n",
    "    return Pol"
   ]
  },
  {
   "cell_type": "markdown",
   "id": "f5bc81bc",
   "metadata": {},
   "source": [
    "# Using Scipy Optimization modules to optimize the problem.\n",
    "Online documentation:\n",
    "https://docs.scipy.org/doc/scipy/reference/generated/scipy.optimize.minimize.html"
   ]
  },
  {
   "cell_type": "code",
   "execution_count": 4,
   "id": "4f5cf176",
   "metadata": {},
   "outputs": [],
   "source": [
    "from scipy import optimize\n",
    "from scipy.optimize import minimize\n",
    "from scipy.optimize import dual_annealing"
   ]
  },
  {
   "cell_type": "code",
   "execution_count": 8,
   "id": "3809e118",
   "metadata": {},
   "outputs": [],
   "source": [
    "#define the optimization function:\n",
    "def f3(B2_m):\n",
    "    Polarization=PolSim(62.5,250,B2_m[0],B2_m[1],B2_m[2],B2_m[3],10)\n",
    "    opt=(1.-(np.mean(Polarization)))\n",
    "    #opt=B2_m[0]**2-12*B2_m[0]+20\n",
    "    return opt"
   ]
  },
  {
   "cell_type": "markdown",
   "id": "44ea3ef9",
   "metadata": {},
   "source": [
    " Here we chose SLSQP method which stands for sequential least-square quadratic programming.<br>\n",
    " https://en.wikipedia.org/wiki/Sequential_quadratic_programming\n",
    " "
   ]
  },
  {
   "cell_type": "code",
   "execution_count": 9,
   "id": "8fddc56b",
   "metadata": {
    "scrolled": true
   },
   "outputs": [
    {
     "name": "stdout",
     "output_type": "stream",
     "text": [
      "Status : Optimization terminated successfully\n",
      "Total Evaluations: 237\n",
      "Solution: f([3.49350488e+01 6.00612003e+01 3.36806248e-02 2.58613590e+00]) = 0.00124\n"
     ]
    }
   ],
   "source": [
    "B2_start=[35.,60,0.03,2.6];\n",
    "B_bounds=[(20,40),(40,100),(0.01,1.0),(0,5)]\n",
    "results = optimize.minimize(f3,B2_start,method='SLSQP',bounds=B_bounds)\n",
    "#optimize.minimize(f3,[30.],method='SLSQP')\n",
    "print('Status : %s' % results['message'])\n",
    "print('Total Evaluations: %d' % results['nfev'])\n",
    "solution = results['x']\n",
    "evaluation = f3(solution)\n",
    "print('Solution: f(%s) = %.5f' % (solution, evaluation))\n"
   ]
  },
  {
   "cell_type": "code",
   "execution_count": 10,
   "id": "851046ff",
   "metadata": {},
   "outputs": [
    {
     "name": "stdout",
     "output_type": "stream",
     "text": [
      "     fun: 0.0005266829149174201\n",
      "     jac: array([-12446.34804609, -22371.10326058, -13368.43076048, -37143.24088832])\n",
      " message: 'Optimization terminated successfully'\n",
      "    nfev: 237\n",
      "     nit: 18\n",
      "    njev: 16\n",
      "  status: 0\n",
      " success: True\n",
      "       x: array([3.49350488e+01, 6.00612003e+01, 3.36806248e-02, 2.58613590e+00])\n"
     ]
    }
   ],
   "source": [
    "print(results)"
   ]
  },
  {
   "cell_type": "markdown",
   "id": "121fe20a",
   "metadata": {},
   "source": [
    "The Results we get from this is:<br>\n",
    "Status : Optimization terminated successfully<br>\n",
    "Total Evaluations: 237<br>\n",
    "Solution: f([3.49350488e+01 6.00612003e+01 3.36806248e-02 2.58613590e+00]) = 0.00124 <br>\n",
    "print(results)<br>\n",
    "     fun: 0.0005266829149174201 <br>\n",
    "     jac: array([-12446.34804609, -22371.10326058, -13368.43076048, -37143.24088832])<br>\n",
    " message: 'Optimization terminated successfully'<br>\n",
    "    nfev: 237<br>\n",
    "     nit: 18<br>\n",
    "    njev: 16<br>\n",
    "  status: 0<br>\n",
    " success: True<br>\n",
    "       x: array([3.49350488e+01, 6.00612003e+01, 3.36806248e-02, 2.58613590e+00])<br>"
   ]
  },
  {
   "cell_type": "code",
   "execution_count": null,
   "id": "b80ea0a5",
   "metadata": {},
   "outputs": [],
   "source": []
  }
 ],
 "metadata": {
  "kernelspec": {
   "display_name": "Python 3 (ipykernel)",
   "language": "python",
   "name": "python3"
  },
  "language_info": {
   "codemirror_mode": {
    "name": "ipython",
    "version": 3
   },
   "file_extension": ".py",
   "mimetype": "text/x-python",
   "name": "python",
   "nbconvert_exporter": "python",
   "pygments_lexer": "ipython3",
   "version": "3.8.10"
  }
 },
 "nbformat": 4,
 "nbformat_minor": 5
}
