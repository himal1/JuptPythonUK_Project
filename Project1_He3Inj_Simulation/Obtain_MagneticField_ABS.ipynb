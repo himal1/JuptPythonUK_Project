{
 "cells": [
  {
   "cell_type": "markdown",
   "id": "b69f5264",
   "metadata": {},
   "source": [
    "# This program determine magnetic field from the ABS and other connected magnetic fields."
   ]
  },
  {
   "cell_type": "code",
   "execution_count": 1,
   "id": "d8846a17",
   "metadata": {},
   "outputs": [],
   "source": [
    "import numpy as np\n",
    "import math\n",
    "import pandas as pd\n",
    "import matplotlib.pyplot as plt"
   ]
  },
  {
   "cell_type": "code",
   "execution_count": 12,
   "id": "e308ac56",
   "metadata": {
    "scrolled": true
   },
   "outputs": [],
   "source": [
    "#def ABC_Coil_CalculateB(zmin,zmax,x0,y0,B2,B4,B5,B6):\n",
    "    #provide x,y and z, xand y = 0.55 and z is from 0 to 250\n",
    "    #zmin,zmax,x0,y0,B2,B4,B5,B6;\n",
    "zmin=0\n",
    "zmax=250\n",
    "x=0.55\n",
    "y=0.55\n",
    "zrange=zmax-zmin\n",
    "z=np.arange(zmin,zmax,zrange/2500)"
   ]
  },
  {
   "cell_type": "markdown",
   "id": "24b70fe3",
   "metadata": {},
   "source": [
    "These are the parameters specified for ABS and other magnet systems.<br>\n",
    "We will define a function with all these required input for more optimization."
   ]
  },
  {
   "cell_type": "code",
   "execution_count": 13,
   "id": "ade893c6",
   "metadata": {},
   "outputs": [],
   "source": [
    "#quadrupole and shim\n",
    "z1=63.6;   dz1=0.53;    r1=0.75;                # center,roll-off,radius [cm]\n",
    "zs=z1-5.25*2.54; zt=z1-.25*2.54; dzs=3.0;       # start,end,roll-off [cm]\n",
    "B1= 7500; Bs=B1*0.30;                           # field [G]  (Bs=0: no shim)\n",
    "vg=22000;\n",
    "# small,large ring\n",
    "z2=z1+7.0                      \n",
    "r2=10;          \n",
    "B2=35;\n",
    "z3=z2;                          \n",
    "r3=15;          \n",
    "B3=-B2*pow((r2/r3),3)\n",
    "\n",
    "# top,bot of MSR\n",
    "za=z2+74.4;     zb=za+40.4;\n",
    "\n",
    "# small,large costheta\n",
    "z4=z2+8.4;      dz4=3.2;        r4=10;          B4=60;\n",
    "z6=z2+60;       dz6=3.2;        r6=30;          B6=2.5;\n",
    "\n",
    "#more parameters\n",
    "z5=250;                         r5=1.9;         B5=0.03;\n",
    "Bx5=z*0+B5;"
   ]
  },
  {
   "cell_type": "markdown",
   "id": "21ba443d",
   "metadata": {},
   "source": [
    "Here, we used the parameter $Q_{xy}$ to obtain the magnetic field.<br>\n",
    "$Q_{xy}=\\frac{B1}{2\\times r1}\\times tanh(\\frac{z-z1}{dz1}) + \\frac{Bs}{2\\times r1}\\times (tanh(\\frac{z-zs}{dzs})-tanh(\\frac{z-zt}{dzs}))$"
   ]
  },
  {
   "cell_type": "code",
   "execution_count": 26,
   "id": "476e2ede",
   "metadata": {},
   "outputs": [],
   "source": [
    "Qxy=B1/r1/2*(1-np.tanh((z-z1)/dz1)) + Bs/r1/2*(np.tanh((z-zs)/dzs)-np.tanh((z-zt)/dzs));\n",
    "#plt.plot(z,np.log10(Qxy), 'k', linewidth=2);"
   ]
  },
  {
   "cell_type": "markdown",
   "id": "9b3541cf",
   "metadata": {},
   "source": [
    "Now, we obtain the derivative of $Q_{xy}$"
   ]
  },
  {
   "cell_type": "code",
   "execution_count": 25,
   "id": "fd8c0485",
   "metadata": {},
   "outputs": [],
   "source": [
    "dQxy=-B1/r1/2*pow((1/np.cosh((z-z1)/dz1)),2)/dz1 + Bs/r1/2*(pow((1/np.cosh((z-zs)/dzs)),2) - pow(1/np.cosh((z-zt)/dzs),2))/dzs\n",
    "#plt.plot(z,dQxy, 'k', linewidth=2);"
   ]
  },
  {
   "cell_type": "markdown",
   "id": "05dc09f9",
   "metadata": {},
   "source": [
    "With this information we are in position to calculate magnetic field components and its derivative from each coils or magnet in ABS magnetic systems. "
   ]
  },
  {
   "cell_type": "code",
   "execution_count": 16,
   "id": "7fc30ec0",
   "metadata": {},
   "outputs": [],
   "source": [
    "Bz2=B2*pow(r2,3)/pow((pow(r2,2)+pow((z-z2),2)),(3/2));\n",
    "Bz3=B3*pow(r3,3)/pow((pow(r3,2)+pow((z-z3),2)),(3/2));\n",
    "dBz2=-3*Bz2*(z-z2)/(pow(r2,2)+pow((z-z2),2));         #dBz/dz\n",
    "dBz3=-3*Bz3*(z-z3)/(pow(r3,2)+pow((z-z3),2));         #dBz/dz"
   ]
  },
  {
   "cell_type": "code",
   "execution_count": 17,
   "id": "fc3a5193",
   "metadata": {},
   "outputs": [],
   "source": [
    "Bx4=B4*pow(r4,5)/pow((pow((pow(r4,2)+pow((z-z4),2)),(3/2)) + pow((pow(r4,2)-pow(dz4,2)),(3/2))),(5/3));\n",
    "Bx6=B6*pow(r6,5)/pow((pow((pow(r6,2)+pow((z-z6),2)),(3/2)) + pow((pow(r6,2)-pow(dz6,2)),(3/2))),(5/3));"
   ]
  },
  {
   "cell_type": "code",
   "execution_count": 18,
   "id": "ab82d4cf",
   "metadata": {},
   "outputs": [],
   "source": [
    "dBx4=-5*Bx4/(pow((pow(r4,2)+pow((z-z4),2)),(3/2)) + pow((pow(r4,2)-pow(dz4,2)),(3/2)))*np.sqrt(pow(r4,2)+ pow((z-z4),2))*(z-z4);\n",
    "dBx6=-5*Bx6/(pow((pow(r6,2)+pow((z-z6),2)),(3/2)) + pow((pow(r6,2)-pow(dz6,2)),(3/2)))*np.sqrt(pow(r6,2)+ pow((z-z6),2))*(z-z6);"
   ]
  },
  {
   "cell_type": "markdown",
   "id": "53ba79bd",
   "metadata": {},
   "source": [
    "Now we have all the required components of the magnetic fields.<br>\n",
    "Finally, the total magnetic field can be obtained using the following expression.<br>\n",
    "$B=(B_x,B_y,B_z)$ <br>\n",
    "$B_x= (Q_{xy}\\times y -\\frac{1}{2}\\times(dBz2+dBz3)\\times x + Bx4 + Bx6 + B5$<br>\n",
    "$B_y=Q_{xy}\\times x -\\frac{1}{2}\\times(dBz2+dBz3)\\times y$ <br>\n",
    "$B_z=dQ_{xy}\\times x \\times y + Bz2+Bz3 + (dBx4+dBx6)\\times x)$ <br>"
   ]
  },
  {
   "cell_type": "code",
   "execution_count": 19,
   "id": "27b4b777",
   "metadata": {},
   "outputs": [],
   "source": [
    "Bx = Qxy*y - 1/2*(dBz2+dBz3)*x + Bx4 + Bx6 + B5;\n",
    "By = Qxy*x - 1/2*(dBz2+dBz3)*y;\n",
    "Bz = dQxy*x*y + (Bz2+Bz3) + (dBx4+dBx6)*x;"
   ]
  },
  {
   "cell_type": "code",
   "execution_count": 24,
   "id": "8e7d2752",
   "metadata": {},
   "outputs": [
    {
     "name": "stdout",
     "output_type": "stream",
     "text": [
      "[ 3.54510478e-03  3.56948894e-03  3.59407367e-03 ... -1.09329490e-05\n",
      " -1.08197872e-05 -1.07074059e-05]\n"
     ]
    },
    {
     "data": {
      "image/png": "[encoded data removed]",
      "text/plain": [
       "<Figure size 432x288 with 1 Axes>"
      ]
     },
     "metadata": {
      "needs_background": "light"
     },
     "output_type": "display_data"
    }
   ],
   "source": [
    "B  = [Bx,By,Bz];\n",
    "Bt=np.linalg.norm(B,axis=0);\n",
    "#plt.plot(z,np.log10(Bx), 'k', linewidth=2);\n",
    "#plt.plot(z,np.log10(By), 'b', linewidth=2);\n",
    "#plt.plot(z,np.log10(Bz), 'r', linewidth=2);\n",
    "plt.plot(z,np.log10(Bt), 'g', linewidth=2);"
   ]
  },
  {
   "cell_type": "code",
   "execution_count": null,
   "id": "3b13a4d8",
   "metadata": {},
   "outputs": [],
   "source": []
  }
 ],
 "metadata": {
  "kernelspec": {
   "display_name": "Python 3 (ipykernel)",
   "language": "python",
   "name": "python3"
  },
  "language_info": {
   "codemirror_mode": {
    "name": "ipython",
    "version": 3
   },
   "file_extension": ".py",
   "mimetype": "text/x-python",
   "name": "python",
   "nbconvert_exporter": "python",
   "pygments_lexer": "ipython3",
   "version": "3.8.10"
  }
 },
 "nbformat": 4,
 "nbformat_minor": 5
}
