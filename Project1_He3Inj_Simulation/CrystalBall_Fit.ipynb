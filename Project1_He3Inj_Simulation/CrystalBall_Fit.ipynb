{
 "cells": [
  {
   "cell_type": "code",
   "execution_count": 1,
   "id": "48875db5",
   "metadata": {},
   "outputs": [],
   "source": [
    "import numpy as np\n",
    "from scipy import optimize\n",
    "from scipy.optimize import curve_fit\n",
    "import pandas as pd\n",
    "import matplotlib.pyplot as plt\n",
    "from scipy.stats import crystalball\n",
    "import math"
   ]
  },
  {
   "cell_type": "markdown",
   "id": "fae72f83",
   "metadata": {},
   "source": [
    " A Gaussian curve on one side and a power-law on the other side. Used in\n",
    "  physics to model lossy processes.\n",
    "  See http://en.wikipedia.org/wiki/Crystal_Ball_function\n",
    "  Note that the definition used here differs slightly. At the time of this\n",
    "  writing, the wiki article has some discrepancies in definitions/plots. This\n",
    "  definition makes it easier to fit the function by using complex numbers\n",
    "  and by negating any negative values for a and n.\n",
    "  This version of the crystal ball is normalized by an internal normalization\n",
    "  process.\n",
    "  params: a, n, xb, sig"
   ]
  },
  {
   "cell_type": "code",
   "execution_count": 2,
   "id": "bfde74d5",
   "metadata": {},
   "outputs": [],
   "source": [
    "def crystal_ball_norm(x, a, n, xb, sig):\n",
    "  \"\"\" A Gaussian curve on one side and a power-law on the other side. Used in\n",
    "  physics to model lossy processes.\n",
    "  See http://en.wikipedia.org/wiki/Crystal_Ball_function\n",
    "  Note that the definition used here differs slightly. At the time of this\n",
    "  writing, the wiki article has some discrepancies in definitions/plots. This\n",
    "  definition makes it easier to fit the function by using complex numbers\n",
    "  and by negating any negative values for a and n.\n",
    "  This version of the crystal ball is normalized by an internal normalization\n",
    "  process.\n",
    "  params: a, n, xb, sig\n",
    "  \"\"\"\n",
    "  x = x+0j # Prevent warnings...\n",
    "  #a, n, xb, sig = params\n",
    "  if a < 0:\n",
    "    a = -a\n",
    "  if n < 0:\n",
    "    n = -n\n",
    "  aa = abs(a)\n",
    "  A = (n/aa)**n * np.exp(- aa**2 / 2)\n",
    "  B = n/aa - aa\n",
    "  C = n/aa / (n-1.) * np.exp(-aa**2/2.)\n",
    "  D = np.sqrt(np.pi/2.) * (1. + math.erf(aa/np.sqrt(2.)))\n",
    "  N = 1. / (sig * (C+D))\n",
    "  total = 0.*x\n",
    "  total += ((x-xb)/sig  > -a) * N * np.exp(- (x-xb)**2/(2.*sig**2))\n",
    "  total += ((x-xb)/sig <= -a) * N * A * (B - (x-xb)/sig)**(-n)\n",
    "  try:\n",
    "    return total.real\n",
    "  except:\n",
    "    return total\n",
    "  return total"
   ]
  },
  {
   "cell_type": "code",
   "execution_count": 3,
   "id": "98db5a1b",
   "metadata": {},
   "outputs": [],
   "source": [
    "def crystal_ball(x, N, a, n, xb, sig):\n",
    "  \"\"\" A Gaussian curve on one side and a power-law on the other side. Used in\n",
    "  physics to model lossy processes.\n",
    "  See http://en.wikipedia.org/wiki/Crystal_Ball_function\n",
    "  Note that the definition used here differs slightly. At the time of this\n",
    "  writing, the wiki article has some discrepancies in definitions/plots. This\n",
    "  definition makes it easier to fit the function by using complex numbers\n",
    "  and by negating any negative values for a and n.\n",
    "  This version of the crystal ball is normalized by an additional parameter.\n",
    "  params: N, a, n, xb, sig\n",
    "  \"\"\"\n",
    "  x = x+0j # Prevent warnings...\n",
    "  \n",
    "  if a < 0:\n",
    "    a = -a\n",
    "  if n < 0:\n",
    "    n = -n\n",
    "  aa = abs(a)\n",
    "  A = (n/aa)**n * np.exp(- aa**2 / 2)\n",
    "  B = n/aa - aa\n",
    "  total = 0.*x\n",
    "  total += ((x-xb)/sig  > -a) * N * np.exp(- (x-xb)**2/(2.*sig**2))\n",
    "  total += ((x-xb)/sig <= -a) * N * A * (B - (x-xb)/sig)**(-n)\n",
    "  try:\n",
    "    return total.real\n",
    "  except:\n",
    "    return total\n",
    "  return total"
   ]
  },
  {
   "cell_type": "code",
   "execution_count": null,
   "id": "f328cb1d",
   "metadata": {},
   "outputs": [],
   "source": []
  },
  {
   "cell_type": "code",
   "execution_count": 4,
   "id": "f4e6117a",
   "metadata": {},
   "outputs": [],
   "source": [
    "Cylin='/mnt/c/Users/Christopher Crawford/Desktop/MagneticFieldFromCylinder_ABSMagnetSystemGrid_v2Exact.txt'"
   ]
  },
  {
   "cell_type": "code",
   "execution_count": 5,
   "id": "dc90375a",
   "metadata": {},
   "outputs": [],
   "source": [
    "pc=pd.read_csv(Cylin,delim_whitespace=True)\n",
    "T_Cy1 = pd.DataFrame(pc)\n",
    "T_Cy=T_Cy1.dropna()\n",
    "T_Cy=T_Cy.reset_index(drop=True)"
   ]
  },
  {
   "cell_type": "code",
   "execution_count": 6,
   "id": "3bffa8b6",
   "metadata": {},
   "outputs": [
    {
     "data": {
      "text/plain": [
       "False"
      ]
     },
     "execution_count": 6,
     "metadata": {},
     "output_type": "execute_result"
    }
   ],
   "source": [
    "T_Cy[\"r\"]=T_Cy[\"r\"]*100\n",
    "T_Cy[\"z\"]=T_Cy[\"z\"]*100\n",
    "T_Cy=T_Cy.round(4)\n",
    "T_Cy.duplicated().any()"
   ]
  },
  {
   "cell_type": "code",
   "execution_count": 7,
   "id": "cb64e4da",
   "metadata": {},
   "outputs": [
    {
     "data": {
      "text/html": [
       "<div>\n",
       "<style scoped>\n",
       "    .dataframe tbody tr th:only-of-type {\n",
       "        vertical-align: middle;\n",
       "    }\n",
       "\n",
       "    .dataframe tbody tr th {\n",
       "        vertical-align: top;\n",
       "    }\n",
       "\n",
       "    .dataframe thead th {\n",
       "        text-align: right;\n",
       "    }\n",
       "</style>\n",
       "<table border=\"1\" class=\"dataframe\">\n",
       "  <thead>\n",
       "    <tr style=\"text-align: right;\">\n",
       "      <th></th>\n",
       "      <th>r</th>\n",
       "      <th>z</th>\n",
       "      <th>Br</th>\n",
       "      <th>Bz</th>\n",
       "    </tr>\n",
       "  </thead>\n",
       "  <tbody>\n",
       "    <tr>\n",
       "      <th>0</th>\n",
       "      <td>0.00</td>\n",
       "      <td>50.0</td>\n",
       "      <td>0.0000</td>\n",
       "      <td>-3.1489</td>\n",
       "    </tr>\n",
       "    <tr>\n",
       "      <th>1</th>\n",
       "      <td>0.01</td>\n",
       "      <td>50.0</td>\n",
       "      <td>0.0014</td>\n",
       "      <td>-3.1489</td>\n",
       "    </tr>\n",
       "    <tr>\n",
       "      <th>2</th>\n",
       "      <td>0.02</td>\n",
       "      <td>50.0</td>\n",
       "      <td>0.0027</td>\n",
       "      <td>-3.1488</td>\n",
       "    </tr>\n",
       "    <tr>\n",
       "      <th>3</th>\n",
       "      <td>0.03</td>\n",
       "      <td>50.0</td>\n",
       "      <td>0.0041</td>\n",
       "      <td>-3.1488</td>\n",
       "    </tr>\n",
       "    <tr>\n",
       "      <th>4</th>\n",
       "      <td>0.04</td>\n",
       "      <td>50.0</td>\n",
       "      <td>0.0055</td>\n",
       "      <td>-3.1487</td>\n",
       "    </tr>\n",
       "    <tr>\n",
       "      <th>...</th>\n",
       "      <td>...</td>\n",
       "      <td>...</td>\n",
       "      <td>...</td>\n",
       "      <td>...</td>\n",
       "    </tr>\n",
       "    <tr>\n",
       "      <th>501496</th>\n",
       "      <td>9.96</td>\n",
       "      <td>100.0</td>\n",
       "      <td>-0.6666</td>\n",
       "      <td>-1.5049</td>\n",
       "    </tr>\n",
       "    <tr>\n",
       "      <th>501497</th>\n",
       "      <td>9.97</td>\n",
       "      <td>100.0</td>\n",
       "      <td>-0.6671</td>\n",
       "      <td>-1.5043</td>\n",
       "    </tr>\n",
       "    <tr>\n",
       "      <th>501498</th>\n",
       "      <td>9.98</td>\n",
       "      <td>100.0</td>\n",
       "      <td>-0.6675</td>\n",
       "      <td>-1.5036</td>\n",
       "    </tr>\n",
       "    <tr>\n",
       "      <th>501499</th>\n",
       "      <td>9.99</td>\n",
       "      <td>100.0</td>\n",
       "      <td>-0.6679</td>\n",
       "      <td>-1.5029</td>\n",
       "    </tr>\n",
       "    <tr>\n",
       "      <th>501500</th>\n",
       "      <td>10.00</td>\n",
       "      <td>100.0</td>\n",
       "      <td>-0.6684</td>\n",
       "      <td>-1.5023</td>\n",
       "    </tr>\n",
       "  </tbody>\n",
       "</table>\n",
       "<p>501501 rows × 4 columns</p>\n",
       "</div>"
      ],
      "text/plain": [
       "            r      z      Br      Bz\n",
       "0        0.00   50.0  0.0000 -3.1489\n",
       "1        0.01   50.0  0.0014 -3.1489\n",
       "2        0.02   50.0  0.0027 -3.1488\n",
       "3        0.03   50.0  0.0041 -3.1488\n",
       "4        0.04   50.0  0.0055 -3.1487\n",
       "...       ...    ...     ...     ...\n",
       "501496   9.96  100.0 -0.6666 -1.5049\n",
       "501497   9.97  100.0 -0.6671 -1.5043\n",
       "501498   9.98  100.0 -0.6675 -1.5036\n",
       "501499   9.99  100.0 -0.6679 -1.5029\n",
       "501500  10.00  100.0 -0.6684 -1.5023\n",
       "\n",
       "[501501 rows x 4 columns]"
      ]
     },
     "execution_count": 7,
     "metadata": {},
     "output_type": "execute_result"
    }
   ],
   "source": [
    "T_Cy"
   ]
  },
  {
   "cell_type": "code",
   "execution_count": 8,
   "id": "df10f802",
   "metadata": {},
   "outputs": [
    {
     "data": {
      "text/plain": [
       "<matplotlib.collections.PathCollection at 0x7f47266cee50>"
      ]
     },
     "execution_count": 8,
     "metadata": {},
     "output_type": "execute_result"
    },
    {
     "data": {
      "image/png": "[encoded data removed]",
      "text/plain": [
       "<Figure size 432x288 with 1 Axes>"
      ]
     },
     "metadata": {
      "needs_background": "light"
     },
     "output_type": "display_data"
    }
   ],
   "source": [
    "df = T_Cy.loc[(T_Cy['z'] >50)&(abs(T_Cy['r']) == 0.0)]\n",
    "#plt.ylim(3,4)\n",
    "plt.scatter(df[\"z\"],df[\"Bz\"], color='r')"
   ]
  },
  {
   "cell_type": "code",
   "execution_count": 9,
   "id": "44b0e273",
   "metadata": {},
   "outputs": [],
   "source": [
    "#parameters, covariance = curve_fit(crystal_ball_norm, df['z'], df['Bz'],[70.,10.,70,10]) #use in case of the normalized distribution "
   ]
  },
  {
   "cell_type": "code",
   "execution_count": 10,
   "id": "8818261e",
   "metadata": {},
   "outputs": [
    {
     "name": "stderr",
     "output_type": "stream",
     "text": [
      "/home/hacharya/.local/lib/python3.8/site-packages/pandas/core/series.py:857: ComplexWarning: Casting complex values to real discards the imaginary part\n",
      "  return np.asarray(self._values, dtype)\n",
      "/home/hacharya/.local/lib/python3.8/site-packages/scipy/optimize/minpack.py:833: OptimizeWarning: Covariance of the parameters could not be estimated\n",
      "  warnings.warn('Covariance of the parameters could not be estimated',\n"
     ]
    }
   ],
   "source": [
    "parameters, covariance = curve_fit(crystal_ball, df['z'], df['Bz'],[30,70.,3.,70,3.])"
   ]
  },
  {
   "cell_type": "code",
   "execution_count": 11,
   "id": "fbbfa763",
   "metadata": {},
   "outputs": [
    {
     "name": "stdout",
     "output_type": "stream",
     "text": [
      "29.621990528347684 70.0 3.0 71.87146238145849 3.0674986429522986\n"
     ]
    }
   ],
   "source": [
    "fit_A = parameters[0]\n",
    "fit_B = parameters[1]\n",
    "fit_C = parameters[2]\n",
    "fit_D = parameters[3]\n",
    "fit_E = parameters[4]\n",
    "print(fit_A,fit_B,fit_C,fit_D,fit_E)"
   ]
  },
  {
   "cell_type": "code",
   "execution_count": 12,
   "id": "cf865048",
   "metadata": {},
   "outputs": [
    {
     "name": "stderr",
     "output_type": "stream",
     "text": [
      "/home/hacharya/.local/lib/python3.8/site-packages/matplotlib/cbook/__init__.py:1298: ComplexWarning: Casting complex values to real discards the imaginary part\n",
      "  return np.asarray(x, float)\n"
     ]
    },
    {
     "data": {
      "text/plain": [
       "<matplotlib.legend.Legend at 0x7f47264e7e50>"
      ]
     },
     "execution_count": 12,
     "metadata": {},
     "output_type": "execute_result"
    },
    {
     "data": {
      "image/png": "[encoded data removed]",
      "text/plain": [
       "<Figure size 432x288 with 1 Axes>"
      ]
     },
     "metadata": {
      "needs_background": "light"
     },
     "output_type": "display_data"
    }
   ],
   "source": [
    "fit_y = crystal_ball(df['z'], fit_A, fit_B, fit_C,fit_D,fit_E)\n",
    "\n",
    "plt.plot(df['z'], df['Bz'], 'o', label='data')\n",
    "plt.plot(df['z'], fit_y, '-', label='fit_Total',lw=2)\n",
    "plt.legend()\n"
   ]
  },
  {
   "cell_type": "code",
   "execution_count": null,
   "id": "8dc6484f",
   "metadata": {},
   "outputs": [],
   "source": []
  }
 ],
 "metadata": {
  "kernelspec": {
   "display_name": "Python 3 (ipykernel)",
   "language": "python",
   "name": "python3"
  },
  "language_info": {
   "codemirror_mode": {
    "name": "ipython",
    "version": 3
   },
   "file_extension": ".py",
   "mimetype": "text/x-python",
   "name": "python",
   "nbconvert_exporter": "python",
   "pygments_lexer": "ipython3",
   "version": "3.8.10"
  }
 },
 "nbformat": 4,
 "nbformat_minor": 5
}
