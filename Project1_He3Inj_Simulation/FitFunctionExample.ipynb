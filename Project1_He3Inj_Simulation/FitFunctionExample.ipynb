{
 "cells": [
  {
   "cell_type": "code",
   "execution_count": 1,
   "id": "17b62cc9",
   "metadata": {},
   "outputs": [],
   "source": [
    "import numpy as np\n",
    "from scipy import optimize\n",
    "from scipy.optimize import curve_fit\n",
    "import pandas as pd\n",
    "import matplotlib.pyplot as plt\n",
    "from scipy.stats import norm"
   ]
  },
  {
   "cell_type": "code",
   "execution_count": 2,
   "id": "35ca0df5",
   "metadata": {},
   "outputs": [],
   "source": [
    "def gauss(x, A, mu, sigma):\n",
    "    y=A*np.exp(-(x-mu)**2/(2.*sigma**2))\n",
    "    return y\n",
    "def ChebyChev(x,c1,c2,c3):\n",
    "    y=c1+c2*x+c3*(2*pow(x,2)-1)\n",
    "    return y\n",
    "def CombineGausCheby(x,A,mu,sigma,c1,c2,c3):\n",
    "    y=gauss(x, A, mu, sigma)+ChebyChev(x,c1,c2,c3)\n",
    "    return y"
   ]
  },
  {
   "cell_type": "code",
   "execution_count": 3,
   "id": "3ec71c29",
   "metadata": {},
   "outputs": [],
   "source": [
    "Cylin='/mnt/c/Users/Christopher Crawford/Desktop/MagneticFieldFromCylinder_ABSMagnetSystemGrid_v2Exact.txt'"
   ]
  },
  {
   "cell_type": "code",
   "execution_count": 4,
   "id": "212b1218",
   "metadata": {},
   "outputs": [],
   "source": [
    "pc=pd.read_csv(Cylin,delim_whitespace=True)\n",
    "T_Cy1 = pd.DataFrame(pc)\n",
    "T_Cy=T_Cy1.dropna()\n",
    "T_Cy=T_Cy.reset_index(drop=True)"
   ]
  },
  {
   "cell_type": "code",
   "execution_count": 5,
   "id": "5c91634f",
   "metadata": {},
   "outputs": [
    {
     "data": {
      "text/plain": [
       "False"
      ]
     },
     "execution_count": 5,
     "metadata": {},
     "output_type": "execute_result"
    }
   ],
   "source": [
    "T_Cy[\"r\"]=T_Cy[\"r\"]*100\n",
    "T_Cy[\"z\"]=T_Cy[\"z\"]*100\n",
    "T_Cy=T_Cy.round(4)\n",
    "T_Cy.duplicated().any()"
   ]
  },
  {
   "cell_type": "code",
   "execution_count": 6,
   "id": "35114463",
   "metadata": {},
   "outputs": [
    {
     "data": {
      "text/html": [
       "<div>\n",
       "<style scoped>\n",
       "    .dataframe tbody tr th:only-of-type {\n",
       "        vertical-align: middle;\n",
       "    }\n",
       "\n",
       "    .dataframe tbody tr th {\n",
       "        vertical-align: top;\n",
       "    }\n",
       "\n",
       "    .dataframe thead th {\n",
       "        text-align: right;\n",
       "    }\n",
       "</style>\n",
       "<table border=\"1\" class=\"dataframe\">\n",
       "  <thead>\n",
       "    <tr style=\"text-align: right;\">\n",
       "      <th></th>\n",
       "      <th>r</th>\n",
       "      <th>z</th>\n",
       "      <th>Br</th>\n",
       "      <th>Bz</th>\n",
       "    </tr>\n",
       "  </thead>\n",
       "  <tbody>\n",
       "    <tr>\n",
       "      <th>0</th>\n",
       "      <td>0.00</td>\n",
       "      <td>50.0</td>\n",
       "      <td>0.0000</td>\n",
       "      <td>-3.1489</td>\n",
       "    </tr>\n",
       "    <tr>\n",
       "      <th>1</th>\n",
       "      <td>0.01</td>\n",
       "      <td>50.0</td>\n",
       "      <td>0.0014</td>\n",
       "      <td>-3.1489</td>\n",
       "    </tr>\n",
       "    <tr>\n",
       "      <th>2</th>\n",
       "      <td>0.02</td>\n",
       "      <td>50.0</td>\n",
       "      <td>0.0027</td>\n",
       "      <td>-3.1488</td>\n",
       "    </tr>\n",
       "    <tr>\n",
       "      <th>3</th>\n",
       "      <td>0.03</td>\n",
       "      <td>50.0</td>\n",
       "      <td>0.0041</td>\n",
       "      <td>-3.1488</td>\n",
       "    </tr>\n",
       "    <tr>\n",
       "      <th>4</th>\n",
       "      <td>0.04</td>\n",
       "      <td>50.0</td>\n",
       "      <td>0.0055</td>\n",
       "      <td>-3.1487</td>\n",
       "    </tr>\n",
       "    <tr>\n",
       "      <th>...</th>\n",
       "      <td>...</td>\n",
       "      <td>...</td>\n",
       "      <td>...</td>\n",
       "      <td>...</td>\n",
       "    </tr>\n",
       "    <tr>\n",
       "      <th>501496</th>\n",
       "      <td>9.96</td>\n",
       "      <td>100.0</td>\n",
       "      <td>-0.6666</td>\n",
       "      <td>-1.5049</td>\n",
       "    </tr>\n",
       "    <tr>\n",
       "      <th>501497</th>\n",
       "      <td>9.97</td>\n",
       "      <td>100.0</td>\n",
       "      <td>-0.6671</td>\n",
       "      <td>-1.5043</td>\n",
       "    </tr>\n",
       "    <tr>\n",
       "      <th>501498</th>\n",
       "      <td>9.98</td>\n",
       "      <td>100.0</td>\n",
       "      <td>-0.6675</td>\n",
       "      <td>-1.5036</td>\n",
       "    </tr>\n",
       "    <tr>\n",
       "      <th>501499</th>\n",
       "      <td>9.99</td>\n",
       "      <td>100.0</td>\n",
       "      <td>-0.6679</td>\n",
       "      <td>-1.5029</td>\n",
       "    </tr>\n",
       "    <tr>\n",
       "      <th>501500</th>\n",
       "      <td>10.00</td>\n",
       "      <td>100.0</td>\n",
       "      <td>-0.6684</td>\n",
       "      <td>-1.5023</td>\n",
       "    </tr>\n",
       "  </tbody>\n",
       "</table>\n",
       "<p>501501 rows × 4 columns</p>\n",
       "</div>"
      ],
      "text/plain": [
       "            r      z      Br      Bz\n",
       "0        0.00   50.0  0.0000 -3.1489\n",
       "1        0.01   50.0  0.0014 -3.1489\n",
       "2        0.02   50.0  0.0027 -3.1488\n",
       "3        0.03   50.0  0.0041 -3.1488\n",
       "4        0.04   50.0  0.0055 -3.1487\n",
       "...       ...    ...     ...     ...\n",
       "501496   9.96  100.0 -0.6666 -1.5049\n",
       "501497   9.97  100.0 -0.6671 -1.5043\n",
       "501498   9.98  100.0 -0.6675 -1.5036\n",
       "501499   9.99  100.0 -0.6679 -1.5029\n",
       "501500  10.00  100.0 -0.6684 -1.5023\n",
       "\n",
       "[501501 rows x 4 columns]"
      ]
     },
     "execution_count": 6,
     "metadata": {},
     "output_type": "execute_result"
    }
   ],
   "source": [
    "T_Cy"
   ]
  },
  {
   "cell_type": "code",
   "execution_count": 7,
   "id": "2dfbd8ac",
   "metadata": {},
   "outputs": [
    {
     "data": {
      "text/plain": [
       "<matplotlib.collections.PathCollection at 0x7f1d1f784be0>"
      ]
     },
     "execution_count": 7,
     "metadata": {},
     "output_type": "execute_result"
    },
    {
     "data": {
      "image/png": "[encoded data removed]",
      "text/plain": [
       "<Figure size 432x288 with 1 Axes>"
      ]
     },
     "metadata": {
      "needs_background": "light"
     },
     "output_type": "display_data"
    }
   ],
   "source": [
    "#plot the selected data\n",
    "df = T_Cy.loc[(T_Cy['z'] >50)&(abs(T_Cy['r']) == 0.0)]\n",
    "#plt.ylim(3,4)\n",
    "plt.scatter(df[\"z\"],df[\"Bz\"], color='r')"
   ]
  },
  {
   "cell_type": "code",
   "execution_count": 8,
   "id": "02d5806e",
   "metadata": {},
   "outputs": [],
   "source": [
    "# curve fit\n",
    "parameters, covariance = curve_fit(gauss, df['z'], df['Bz'],[30.,70., 3])"
   ]
  },
  {
   "cell_type": "code",
   "execution_count": 9,
   "id": "0d26c0f4",
   "metadata": {},
   "outputs": [
    {
     "name": "stdout",
     "output_type": "stream",
     "text": [
      "29.621990525963923 71.871462381457 3.0674986430823417\n"
     ]
    },
    {
     "data": {
      "image/png": "[encoded data removed]",
      "text/plain": [
       "<Figure size 432x288 with 1 Axes>"
      ]
     },
     "metadata": {
      "needs_background": "light"
     },
     "output_type": "display_data"
    }
   ],
   "source": [
    "fit_A = parameters[0]\n",
    "fit_B = parameters[1]\n",
    "fit_C = parameters[2]\n",
    "  \n",
    "fit_y = gauss(df['z'], fit_A, fit_B, fit_C)\n",
    "plt.plot(df['z'], df['Bz'], 'o', label='data')\n",
    "plt.plot(df['z'], fit_y, '-', label='fit')\n",
    "plt.legend()\n",
    "print(fit_A,fit_B,fit_C)"
   ]
  },
  {
   "cell_type": "code",
   "execution_count": 10,
   "id": "e755c906",
   "metadata": {},
   "outputs": [],
   "source": [
    "parameters, covariance = curve_fit(CombineGausCheby, df['z'], df['Bz'],[30.,70., 3, 0.2,0.5,0.5])"
   ]
  },
  {
   "cell_type": "code",
   "execution_count": 27,
   "id": "df787a3c",
   "metadata": {},
   "outputs": [
    {
     "name": "stdout",
     "output_type": "stream",
     "text": [
      "35.36905744421583 71.87521110877077 3.9139310818824846 31.828740007327553 -1.0765099335719812 0.0037345067034528397\n"
     ]
    },
    {
     "data": {
      "image/png": "[encoded data removed]",
      "text/plain": [
       "<Figure size 432x288 with 1 Axes>"
      ]
     },
     "metadata": {
      "needs_background": "light"
     },
     "output_type": "display_data"
    }
   ],
   "source": [
    "fit_A = parameters[0]\n",
    "fit_B = parameters[1]\n",
    "fit_C = parameters[2]\n",
    "fit_D = parameters[3]\n",
    "fit_E = parameters[4]\n",
    "fit_F = parameters[5]\n",
    "\n",
    "#from Mathmatica\n",
    "#fit_A=1500;\n",
    "#fit_B=90.87521110877077;\n",
    "#fit_C=20.9139310818824846;\n",
    "fit_y = CombineGausCheby(df['z'], fit_A, fit_B, fit_C,fit_D,fit_E,fit_F)\n",
    "fit_1 = ChebyChev(df['z'],fit_D,fit_E,fit_F)\n",
    "fit_2 = gauss(df['z'],fit_A,fit_B,fit_C)\n",
    "plt.plot(df['z'], df['Bz'], 'o', label='data')\n",
    "plt.plot(df['z'], fit_y, '-', label='fit_Total',lw=2)\n",
    "plt.plot(df['z'], fit_1, '-', label='fit_Chebychev',lw=2)\n",
    "plt.plot(df['z'], fit_2, '-', label='fit_Gaussian',lw=2)\n",
    "plt.legend()\n",
    "print(fit_A,fit_B,fit_C,fit_D,fit_E,fit_F)\n",
    "#from Mathmatica\n",
    "fit_A=1500;\n",
    "fit_B=90.87521110877077;\n",
    "fit_C=20.9139310818824846;\n",
    "fit_y = CombineGausCheby(df['z'], fit_A, fit_B, fit_C,fit_D,fit_E,fit_F)\n",
    "#plt.plot(df['z'], fit_y, '-', label='fit',lw=2)\n"
   ]
  },
  {
   "cell_type": "code",
   "execution_count": 22,
   "id": "e6ecca6a",
   "metadata": {},
   "outputs": [
    {
     "data": {
      "text/plain": [
       "[<matplotlib.lines.Line2D at 0x7f1d1f1269d0>]"
      ]
     },
     "execution_count": 22,
     "metadata": {},
     "output_type": "execute_result"
    },
    {
     "data": {
      "image/png": "[encoded data removed]",
      "text/plain": [
       "<Figure size 432x288 with 1 Axes>"
      ]
     },
     "metadata": {
      "needs_background": "light"
     },
     "output_type": "display_data"
    }
   ],
   "source": [
    "#from Mathmatica\n",
    "fit_A=1500;\n",
    "fit_B=90.87521110877077;\n",
    "fit_C=20.9139310818824846;\n",
    "fit_y = CombineGausCheby(df['z'], fit_A, fit_B, fit_C,fit_D,fit_E,fit_F)\n",
    "plt.plot(df['z'], fit_y, '-', label='fit',lw=2)\n"
   ]
  },
  {
   "cell_type": "code",
   "execution_count": 19,
   "id": "3aa74ae8",
   "metadata": {},
   "outputs": [
    {
     "data": {
      "image/png": "[encoded data removed]",
      "text/plain": [
       "<Figure size 432x288 with 1 Axes>"
      ]
     },
     "metadata": {
      "needs_background": "light"
     },
     "output_type": "display_data"
    },
    {
     "name": "stdout",
     "output_type": "stream",
     "text": [
      "-0.07798452228869733 - 0.2179226661653541·T₁(x) -\n",
      "6.025993573677369·T₂(x) + 2.8893338627519793·T₃(x) +\n",
      "6.229385133283018·T₄(x) - 4.1346668669742·T₅(x) -\n",
      "4.0741302524195175·T₆(x) + 3.8370024681610553·T₇(x) +\n",
      "1.9957157666738374·T₈(x) - 2.837846472471221·T₉(x) -\n",
      "0.7064153992589698·T₁₀(x) + 1.8262000106387761·T₁₁(x) +\n",
      "0.07363250805008173·T₁₂(x) - 1.0381097660980172·T₁₃(x) +\n",
      "0.13237193251485935·T₁₄(x) + 0.5532192155153608·T₁₅(x) -\n",
      "0.17771281754804658·T₁₆(x) - 0.2481384258090025·T₁₇(x) +\n",
      "0.11931004431617394·T₁₈(x) + 0.12942415868506726·T₁₉(x) -\n",
      "0.10625907490529057·T₂₀(x)\n"
     ]
    }
   ],
   "source": [
    "p = np.polynomial.Chebyshev.fit(df['z'], df['Bz'], 20)\n",
    "\n",
    "plt.plot(df['z'], df['Bz'], 'r.')\n",
    "plt.plot(df['z'], p(df['z']), 'k-', lw=3)\n",
    "plt.show()\n",
    "print(p)"
   ]
  },
  {
   "cell_type": "code",
   "execution_count": null,
   "id": "79ee1e66",
   "metadata": {},
   "outputs": [],
   "source": []
  }
 ],
 "metadata": {
  "kernelspec": {
   "display_name": "Python 3 (ipykernel)",
   "language": "python",
   "name": "python3"
  },
  "language_info": {
   "codemirror_mode": {
    "name": "ipython",
    "version": 3
   },
   "file_extension": ".py",
   "mimetype": "text/x-python",
   "name": "python",
   "nbconvert_exporter": "python",
   "pygments_lexer": "ipython3",
   "version": "3.8.10"
  }
 },
 "nbformat": 4,
 "nbformat_minor": 5
}
