{
 "cells": [
  {
   "cell_type": "markdown",
   "id": "ffacef78",
   "metadata": {},
   "source": [
    "# This program obtimizes the vaules of parameters used in the magnet systems\n"
   ]
  },
  {
   "cell_type": "markdown",
   "id": "520a4936",
   "metadata": {},
   "source": [
    "The idea is to run the simulation to obtain polarization for many configurations and compre the polarization.<br>\n",
    "The details of the simulation is explianed in simulation program.<br>\n",
    "We can change this .ipynb file to .py file using:<br>\n",
    " jupyter nbconvert --to python Optimization.ipynb"
   ]
  },
  {
   "cell_type": "code",
   "execution_count": 1,
   "id": "0b975bba",
   "metadata": {},
   "outputs": [],
   "source": [
    "import numpy as np\n",
    "import math\n",
    "import pandas as pd\n",
    "import matplotlib.pyplot as plt\n",
    "import random\n",
    "import scipy.integrate as spi\n",
    "from scipy.integrate import solve_ivp\n",
    "import warnings"
   ]
  },
  {
   "cell_type": "code",
   "execution_count": 2,
   "id": "e2ac290b",
   "metadata": {},
   "outputs": [],
   "source": [
    "#suppress warnings\n",
    "warnings.filterwarnings('ignore')"
   ]
  },
  {
   "cell_type": "markdown",
   "id": "361e9043",
   "metadata": {},
   "source": [
    "First define a function to obtain magnetic field"
   ]
  },
  {
   "cell_type": "code",
   "execution_count": 3,
   "id": "06409057",
   "metadata": {},
   "outputs": [],
   "source": [
    "def ABC_Coil_CalculateB(x0,y0,z0,B2,B4,B5,B6):\n",
    "    z=z0\n",
    "    x=x0#0.55\n",
    "    y=y0#0.55\n",
    "    #zrange=zmax-zmin\n",
    "    #z=np.arange(zmin,zmax,zrange/2500)\n",
    "    #quadrupole and shim\n",
    "    z1=63.6;   dz1=0.53;    r1=0.75;                # center,roll-off,radius [cm]\n",
    "    zs=z1-5.25*2.54; zt=z1-.25*2.54; dzs=3.0;       # start,end,roll-off [cm]\n",
    "    B1= 7500; Bs=B1*0.30;                           # field [G]  (Bs=0: no shim)\n",
    "    vg=22000;\n",
    "    # small,large ring\n",
    "    z2=z1+7.0                      \n",
    "    r2=10;          \n",
    "    #B2=35;\n",
    "    z3=z2;                          \n",
    "    r3=15;          \n",
    "    B3=-B2*pow((r2/r3),3)\n",
    "    # top,bot of MSR\n",
    "    za=z2+74.4;     zb=za+40.4;\n",
    "    # small,large costheta\n",
    "    z4=z2+8.4;      dz4=3.2;        r4=10;          #B4=60;\n",
    "    z6=z2+60;       dz6=3.2;        r6=30;          #B6=2.5;\n",
    "    #more parameters\n",
    "    z5=250;                         r5=1.9;         #B5=0.03;\n",
    "    Bx5=z*0+B5;\n",
    "    Qxy=B1/r1/2*(1-np.tanh((z-z1)/dz1)) + Bs/r1/2*(np.tanh((z-zs)/dzs)-np.tanh((z-zt)/dzs));\n",
    "    dQxy=-B1/r1/2*pow((1/np.cosh((z-z1)/dz1)),2)/dz1 + Bs/r1/2*(pow((1/np.cosh((z-zs)/dzs)),2) - pow(1/np.cosh((z-zt)/dzs),2))/dzs\n",
    "    Bz2=B2*pow(r2,3)/pow((pow(r2,2)+pow((z-z2),2)),(3/2));\n",
    "    Bz3=B3*pow(r3,3)/pow((pow(r3,2)+pow((z-z3),2)),(3/2));\n",
    "    dBz2=-3*Bz2*(z-z2)/(pow(r2,2)+pow((z-z2),2));         #dBz/dz\n",
    "    dBz3=-3*Bz3*(z-z3)/(pow(r3,2)+pow((z-z3),2));         #dBz/dz\n",
    "    \n",
    "    Bx4=B4*pow(r4,5)/pow((pow((pow(r4,2)+pow((z-z4),2)),(3/2)) + pow((pow(r4,2)-pow(dz4,2)),(3/2))),(5/3));\n",
    "    Bx6=B6*pow(r6,5)/pow((pow((pow(r6,2)+pow((z-z6),2)),(3/2)) + pow((pow(r6,2)-pow(dz6,2)),(3/2))),(5/3));\n",
    "    dBx4=-5*Bx4/(pow((pow(r4,2)+pow((z-z4),2)),(3/2)) + pow((pow(r4,2)-pow(dz4,2)),(3/2)))*np.sqrt(pow(r4,2)+ pow((z-z4),2))*(z-z4);\n",
    "    dBx6=-5*Bx6/(pow((pow(r6,2)+pow((z-z6),2)),(3/2)) + pow((pow(r6,2)-pow(dz6,2)),(3/2)))*np.sqrt(pow(r6,2)+ pow((z-z6),2))*(z-z6);\n",
    "    Bx = Qxy*y - 1/2*(dBz2+dBz3)*x + Bx4 + Bx6 + B5;\n",
    "    By = Qxy*x - 1/2*(dBz2+dBz3)*y;\n",
    "    Bz = dQxy*x*y + (Bz2+Bz3) + (dBx4+dBx6)*x;\n",
    "    \n",
    "    B  = [Bx,By,Bz];\n",
    "    Bt=np.linalg.norm(B,axis=0);\n",
    "    \n",
    "    return B"
   ]
  },
  {
   "cell_type": "markdown",
   "id": "3fe04996",
   "metadata": {},
   "source": [
    "Now defiene a function to obtain magnetic field in certain time"
   ]
  },
  {
   "cell_type": "code",
   "execution_count": 1,
   "id": "e82f0b64",
   "metadata": {},
   "outputs": [],
   "source": [
    "def Btm(x0,v,t):\n",
    "    xt=[x0[0]+v[0]*t,x0[1]+v[1]*t,x0[2]+v[2]*t]\n",
    "    B1tt=ABC_Coil_CalculateB(xt[0],xt[1],xt[2],B2,B4,B5,B6);\n",
    "    return B1tt"
   ]
  },
  {
   "cell_type": "code",
   "execution_count": 5,
   "id": "a68202c1",
   "metadata": {},
   "outputs": [],
   "source": [
    "def fA(t,y):\n",
    "    return g*np.cross(y, Btm(x0,v,t,B2,B4,B5,B6))"
   ]
  },
  {
   "cell_type": "code",
   "execution_count": 6,
   "id": "b2828685",
   "metadata": {},
   "outputs": [],
   "source": [
    "def PolSim(z0,z1,B2,B4,B5,B6,nev):\n",
    "    #B2=35;\n",
    "    #B4=60;\n",
    "    #B5=0.03;\n",
    "    #B6=2.5;\n",
    "    g=20378.9; v3=22000;\n",
    "    #z0=62.5;\n",
    "    r0=0.629;\n",
    "    #z1=250;\n",
    "    r1=5;\n",
    "    #nev=10;\n",
    "    div=(r1+r0)/(z1-z0);\n",
    "    Pol=[];\n",
    "    for n in range(1, nev):\n",
    "        #variables\n",
    "        rho=np.sqrt(random.random())*r0; \n",
    "        phi=random.random()*2*math.pi; # random position on entrance aperture\n",
    "        x0=[ rho*np.cos(phi), rho*np.sin(phi), z0 ]; \n",
    "        B0=ABC_Coil_CalculateB(x0[0],x0[1],x0[2],B2,B4,B5,B6);\n",
    "        #obtain norm of the magnetic field\n",
    "        B0t=np.linalg.norm(B0,axis=0);\n",
    "    \n",
    "        r=99999; \n",
    "        while(r>r1):  # choose random direction within exit aperture\n",
    "            ctheta=1-(1-np.cos(div))*random.random(); phi=random.random()*2*math.pi;\n",
    "            v1=(v3*math.sqrt(1-pow(ctheta,2))*np.cos(phi), v3*math.sqrt(1-pow(ctheta,2))*np.sin(phi), v3*ctheta );\n",
    "         \n",
    "            x1=np.array(x0)\n",
    "            v=np.array(v1)\n",
    "            t1=(z1-z0)/v[2];\n",
    "            x1=x0+(v*t1); \n",
    "            r=math.sqrt(x1[0]*x1[0] + x1[1]*x1[1]);\n",
    "        \n",
    "        B1  = ABC_Coil_CalculateB(x1[0],x1[1],x1[2],B2,B4,B5,B6);\n",
    "        B1t = np.linalg.norm(B1,axis=0);\n",
    "    \n",
    "        #solve bloch equation using build-in function \n",
    "        sol = solve_ivp(lambda t, y: g*np.cross(y, Btm(x0,v,t,B2,B4,B5,B6)), [0,t1], B0/B0t, method=\"RK45\", rtol = 1e-5)\n",
    "        #sol = solve_ivp(fA, [0,t1], B0/B0t, method=\"RK45\", rtol = 1e-5)\n",
    "    \n",
    "    \n",
    "        #obtain last elemet of the array from the ode solution\n",
    "        Mx=sol.y[0][-1]\n",
    "        My=sol.y[1][-1]\n",
    "        Mz=sol.y[2][-1]\n",
    "        #norm of output vector of the ode\n",
    "        Mn=np.sqrt(Mx**2+My**2+Mz**2)\n",
    "    \n",
    "        #polarization is given by \n",
    "        pol=(B1[0]*Mx+B1[1]*My+B1[2]*Mz)/(Mn*B1t)\n",
    "        Pol.append(pol)\n",
    "    return Pol"
   ]
  },
  {
   "cell_type": "code",
   "execution_count": 7,
   "id": "599c7c12",
   "metadata": {},
   "outputs": [
    {
     "name": "stdout",
     "output_type": "stream",
     "text": [
      "Running B2=30, B4=55, B5=0.0, B6=2.0 with 2 events in a loop\n",
      "Running B2=30, B4=55, B5=0.0, B6=2.1 with 2 events in a loop\n",
      "Running B2=30, B4=55, B5=0.01, B6=2.0 with 2 events in a loop\n",
      "Running B2=30, B4=55, B5=0.01, B6=2.1 with 2 events in a loop\n",
      "Running B2=30, B4=56, B5=0.0, B6=2.0 with 2 events in a loop\n",
      "Running B2=30, B4=56, B5=0.0, B6=2.1 with 2 events in a loop\n",
      "Running B2=30, B4=56, B5=0.01, B6=2.0 with 2 events in a loop\n",
      "Running B2=30, B4=56, B5=0.01, B6=2.1 with 2 events in a loop\n",
      "Running B2=31, B4=55, B5=0.0, B6=2.0 with 2 events in a loop\n",
      "Running B2=31, B4=55, B5=0.0, B6=2.1 with 2 events in a loop\n",
      "Running B2=31, B4=55, B5=0.01, B6=2.0 with 2 events in a loop\n",
      "Running B2=31, B4=55, B5=0.01, B6=2.1 with 2 events in a loop\n",
      "Running B2=31, B4=56, B5=0.0, B6=2.0 with 2 events in a loop\n",
      "Running B2=31, B4=56, B5=0.0, B6=2.1 with 2 events in a loop\n",
      "Running B2=31, B4=56, B5=0.01, B6=2.0 with 2 events in a loop\n",
      "Running B2=31, B4=56, B5=0.01, B6=2.1 with 2 events in a loop\n"
     ]
    }
   ],
   "source": [
    "nev=2;\n",
    "Mean=[]; B2=[]; B4=[]; B5=[]; B6=[]; Sigma=[];\n",
    "\n",
    "for i in range(30,32):\n",
    "    for j in range (55,57):\n",
    "        for k in range (0,2):\n",
    "            for l in range (20,22):\n",
    "                k1=float(k/100);\n",
    "                l1=float(l/10);\n",
    "                him=0\n",
    "                P=PolSim(62.5,250,i,j,k1,l1,nev)\n",
    "                print(\"Running B2=\"+str(i)+\", B4=\"+str(j)+\", B5=\"+str(k1)+\", B6=\"+str(l1)+\" with \"+str(nev)+\" events in a loop\")\n",
    "                Mean.append(np.mean(P));\n",
    "                Sigma.append(np.std(P)/np.sqrt(nev));\n",
    "                B2.append(i)\n",
    "                B4.append(j)\n",
    "                B5.append(k1)\n",
    "                B6.append(l1)\n",
    "                him+1\n",
    "                #Output=np.insert([Output],[Out],axis=0)\n",
    "data = {'Mean':Mean, 'Sigma':Sigma, 'B2':B2, 'B4':B4, 'B5':B5, 'B6':B6}\n",
    "df_1=pd.DataFrame(data)\n",
    "numpy_array = df_1.to_numpy()\n",
    "np.savetxt(\"file.txt\", numpy_array)"
   ]
  },
  {
   "cell_type": "code",
   "execution_count": 8,
   "id": "0313fe63",
   "metadata": {},
   "outputs": [
    {
     "name": "stdout",
     "output_type": "stream",
     "text": [
      "        Mean  Sigma  B2  B4    B5   B6\n",
      "0   0.999746    0.0  30  55  0.00  2.0\n",
      "1   0.999799    0.0  30  55  0.00  2.1\n",
      "2   0.998383    0.0  30  55  0.01  2.0\n",
      "3   0.993490    0.0  30  55  0.01  2.1\n",
      "4   0.999855    0.0  30  56  0.00  2.0\n",
      "5   0.999954    0.0  30  56  0.00  2.1\n",
      "6   0.991007    0.0  30  56  0.01  2.0\n",
      "7   0.999671    0.0  30  56  0.01  2.1\n",
      "8   0.999115    0.0  31  55  0.00  2.0\n",
      "9   0.999440    0.0  31  55  0.00  2.1\n",
      "10  0.999938    0.0  31  55  0.01  2.0\n",
      "11  0.998529    0.0  31  55  0.01  2.1\n",
      "12  0.999218    0.0  31  56  0.00  2.0\n",
      "13  0.999914    0.0  31  56  0.00  2.1\n",
      "14  0.999528    0.0  31  56  0.01  2.0\n",
      "15  0.990584    0.0  31  56  0.01  2.1\n"
     ]
    }
   ],
   "source": [
    "print(df_1)"
   ]
  }
 ],
 "metadata": {
  "kernelspec": {
   "display_name": "Python 3 (ipykernel)",
   "language": "python",
   "name": "python3"
  },
  "language_info": {
   "codemirror_mode": {
    "name": "ipython",
    "version": 3
   },
   "file_extension": ".py",
   "mimetype": "text/x-python",
   "name": "python",
   "nbconvert_exporter": "python",
   "pygments_lexer": "ipython3",
   "version": "3.8.10"
  }
 },
 "nbformat": 4,
 "nbformat_minor": 5
}
