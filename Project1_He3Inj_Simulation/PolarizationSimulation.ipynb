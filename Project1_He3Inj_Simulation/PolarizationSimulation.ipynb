{
 "cells": [
  {
   "cell_type": "markdown",
   "id": "8f08aa54",
   "metadata": {},
   "source": [
    "# Simulation to calculate polarization of the injected neutron in ABS system"
   ]
  },
  {
   "cell_type": "code",
   "execution_count": 1,
   "id": "9e321733",
   "metadata": {},
   "outputs": [],
   "source": [
    "import numpy as np\n",
    "import math\n",
    "import pandas as pd\n",
    "import matplotlib.pyplot as plt\n",
    "import random\n",
    "import scipy.integrate as spi\n",
    "from scipy.integrate import solve_ivp\n",
    "import warnings"
   ]
  },
  {
   "cell_type": "code",
   "execution_count": 2,
   "id": "814e5d16",
   "metadata": {},
   "outputs": [],
   "source": [
    "%matplotlib inline\n",
    "#suppress warnings\n",
    "warnings.filterwarnings('ignore')"
   ]
  },
  {
   "cell_type": "markdown",
   "id": "b4321ae7",
   "metadata": {},
   "source": [
    "First we define function which take intput x,yand z and the magnetic field variables.<br>\n",
    "This is same program as \"ObtainMagneticField_ABS\" but it is defined as a function so that we can call this many time during this simulation.<br>\n",
    "The input parameters for this function are as follows:<br>\n",
    "x, y and z co-ordinate.<br>\n",
    "B1 is magnetic field by the quardapole magnetic field and related to shim by $Bs= B1\\times 0.30$.<br>\n",
    "B2 is magnetic field of the coil after shim.<br>\n",
    "B3 is derived from B2 using formula: $B3=-B2\\times (\\frac{r2}{r3})^3$.<br>\n",
    "B4,B5,B6 are other magnetic fields we can play with to get optimum results on polarization.<br>\n"
   ]
  },
  {
   "cell_type": "code",
   "execution_count": 3,
   "id": "7e804104",
   "metadata": {},
   "outputs": [],
   "source": [
    "def ABC_Coil_CalculateB(x0,y0,z0,B2,B4,B5,B6):\n",
    "    z=z0\n",
    "    x=x0#0.55\n",
    "    y=y0#0.55\n",
    "    #zrange=zmax-zmin\n",
    "    #z=np.arange(zmin,zmax,zrange/2500)\n",
    "    #quadrupole and shim\n",
    "    z1=63.6;   dz1=0.53;    r1=0.75;                # center,roll-off,radius [cm]\n",
    "    zs=z1-5.25*2.54; zt=z1-.25*2.54; dzs=3.0;       # start,end,roll-off [cm]\n",
    "    B1= 7500; Bs=B1*0.30;                           # field [G]  (Bs=0: no shim)\n",
    "    vg=22000;\n",
    "    # small,large ring\n",
    "    z2=z1+7.0                      \n",
    "    r2=10;          \n",
    "    #B2=35;\n",
    "    z3=z2;                          \n",
    "    r3=15;          \n",
    "    B3=-B2*pow((r2/r3),3)\n",
    "    # top,bot of MSR\n",
    "    za=z2+74.4;     zb=za+40.4;\n",
    "    # small,large costheta\n",
    "    z4=z2+8.4;      dz4=3.2;        r4=10;          #B4=60;\n",
    "    z6=z2+60;       dz6=3.2;        r6=30;          #B6=2.5;\n",
    "    #more parameters\n",
    "    z5=250;                         r5=1.9;         #B5=0.03;\n",
    "    Bx5=z*0+B5;\n",
    "    Qxy=B1/r1/2*(1-np.tanh((z-z1)/dz1)) + Bs/r1/2*(np.tanh((z-zs)/dzs)-np.tanh((z-zt)/dzs));\n",
    "    dQxy=-B1/r1/2*pow((1/np.cosh((z-z1)/dz1)),2)/dz1 + Bs/r1/2*(pow((1/np.cosh((z-zs)/dzs)),2) - pow(1/np.cosh((z-zt)/dzs),2))/dzs\n",
    "    Bz2=B2*pow(r2,3)/pow((pow(r2,2)+pow((z-z2),2)),(3/2));\n",
    "    Bz3=B3*pow(r3,3)/pow((pow(r3,2)+pow((z-z3),2)),(3/2));\n",
    "    dBz2=-3*Bz2*(z-z2)/(pow(r2,2)+pow((z-z2),2));         #dBz/dz\n",
    "    dBz3=-3*Bz3*(z-z3)/(pow(r3,2)+pow((z-z3),2));         #dBz/dz\n",
    "    \n",
    "    Bx4=B4*pow(r4,5)/pow((pow((pow(r4,2)+pow((z-z4),2)),(3/2)) + pow((pow(r4,2)-pow(dz4,2)),(3/2))),(5/3));\n",
    "    Bx6=B6*pow(r6,5)/pow((pow((pow(r6,2)+pow((z-z6),2)),(3/2)) + pow((pow(r6,2)-pow(dz6,2)),(3/2))),(5/3));\n",
    "    dBx4=-5*Bx4/(pow((pow(r4,2)+pow((z-z4),2)),(3/2)) + pow((pow(r4,2)-pow(dz4,2)),(3/2)))*np.sqrt(pow(r4,2)+ pow((z-z4),2))*(z-z4);\n",
    "    dBx6=-5*Bx6/(pow((pow(r6,2)+pow((z-z6),2)),(3/2)) + pow((pow(r6,2)-pow(dz6,2)),(3/2)))*np.sqrt(pow(r6,2)+ pow((z-z6),2))*(z-z6);\n",
    "    Bx = Qxy*y - 1/2*(dBz2+dBz3)*x + Bx4 + Bx6 + B5;\n",
    "    By = Qxy*x - 1/2*(dBz2+dBz3)*y;\n",
    "    Bz = dQxy*x*y + (Bz2+Bz3) + (dBx4+dBx6)*x;\n",
    "    \n",
    "    B  = [Bx,By,Bz];\n",
    "    Bt=np.linalg.norm(B,axis=0);\n",
    "    \n",
    "    return B"
   ]
  },
  {
   "cell_type": "markdown",
   "id": "0d34909f",
   "metadata": {},
   "source": [
    "This is a check if the previously defined function"
   ]
  },
  {
   "cell_type": "code",
   "execution_count": 4,
   "id": "9fc3474e",
   "metadata": {},
   "outputs": [
    {
     "data": {
      "text/plain": [
       "[20000.03364722187, 9999.999695599958, 0.0044633395914626724]"
      ]
     },
     "execution_count": 4,
     "metadata": {},
     "output_type": "execute_result"
    }
   ],
   "source": [
    "#check function\n",
    "ABC_Coil_CalculateB(1,2,3,35,60,0.03,2.5)"
   ]
  },
  {
   "cell_type": "markdown",
   "id": "39add38f",
   "metadata": {},
   "source": [
    "The simulation program will use the magnetic field obtained from the function defined above.<br>\n",
    "This simulation have input <br>\n",
    " Ballistic spin transport along the ABS, last section only of taper <br>\n",
    "'z0'\t = 62.5 cm  = initial position, just before exit of ABS <br>\n",
    "'r0'\t = 0.629 cm = initial aperture, radius of ABS tube <br>\n",
    "'z1'\t = 250 cm   = final position, surface of injection volume <br>\n",
    "'r1'\t = 5 cm     = final aperture, radius of injection volume <br>\n",
    "'nev'    = 1000     = number of simulations\n",
    "\n",
    " ballistic motion from (\\rho,\\phi,0) rho<aperture, v=220m/s, |theta|<angdiv <br>\n",
    "Example  >> bport(62.5,.629,250,5,1000)<br><br><br>\n",
    "\n",
    "\n",
    "g=20378.9 and  v3=22000 are gyromag ratio (1/s/G) and  3He velocity (cm/s)<br>\n",
    "div$=\\frac{(r1+r0)}{(z1-z0)}$\tis a angular divergence (\"ABS dimensions\": 15 mrad)\n"
   ]
  },
  {
   "cell_type": "code",
   "execution_count": 5,
   "id": "a140cc2a",
   "metadata": {},
   "outputs": [],
   "source": [
    "g=20378.9; v3=22000;\n",
    "z0=62.5;\n",
    "r0=0.629;\n",
    "z1=250;\n",
    "r1=5;\n",
    "nev=100;\n",
    "div=(r1+r0)/(z1-z0);"
   ]
  },
  {
   "cell_type": "markdown",
   "id": "710a814f",
   "metadata": {},
   "source": [
    "Check random number generator function"
   ]
  },
  {
   "cell_type": "code",
   "execution_count": 1,
   "id": "0ba79ecb",
   "metadata": {},
   "outputs": [
    {
     "ename": "NameError",
     "evalue": "name 'np' is not defined",
     "output_type": "error",
     "traceback": [
      "\u001b[0;31m---------------------------------------------------------------------------\u001b[0m",
      "\u001b[0;31mNameError\u001b[0m                                 Traceback (most recent call last)",
      "Input \u001b[0;32mIn [1]\u001b[0m, in \u001b[0;36m<module>\u001b[0;34m\u001b[0m\n\u001b[1;32m      1\u001b[0m \u001b[38;5;66;03m#check for working of random function \u001b[39;00m\n\u001b[0;32m----> 2\u001b[0m A\u001b[38;5;241m=\u001b[39m\u001b[43mnp\u001b[49m\u001b[38;5;241m.\u001b[39marray([]);\n\u001b[1;32m      3\u001b[0m B\u001b[38;5;241m=\u001b[39mnp\u001b[38;5;241m.\u001b[39marray([]);\n\u001b[1;32m      4\u001b[0m \u001b[38;5;28;01mfor\u001b[39;00m n \u001b[38;5;129;01min\u001b[39;00m \u001b[38;5;28mrange\u001b[39m(\u001b[38;5;241m1\u001b[39m, \u001b[38;5;241m100000\u001b[39m):\n\u001b[1;32m      5\u001b[0m     \u001b[38;5;66;03m#random.seed(-1)\u001b[39;00m\n",
      "\u001b[0;31mNameError\u001b[0m: name 'np' is not defined"
     ]
    }
   ],
   "source": [
    "#check for working of random function \n",
    "A=[];\n",
    "B=np.array([]);\n",
    "for n in range(1, 100000):\n",
    "    #random.seed(-1)\n",
    "    a=random.random()\n",
    "    b=n\n",
    "    A.append(a)\n",
    "    B.append(b)\n",
    "    \n",
    "#print(A,B)\n",
    "plt.plot(A,B,marker='s')"
   ]
  },
  {
   "cell_type": "markdown",
   "id": "37e869ee",
   "metadata": {},
   "source": [
    "Now define a function which will be solved as a differential equations"
   ]
  },
  {
   "cell_type": "code",
   "execution_count": 7,
   "id": "7bfaca26",
   "metadata": {},
   "outputs": [],
   "source": [
    "def Btm(x0,v,t):\n",
    "    xt=[x0[0]+v[0]*t,x0[1]+v[1]*t,x0[2]+v[2]*t]\n",
    "    B1tt=ABC_Coil_CalculateB(xt[0],xt[1],xt[2],35,60,0.03,2.5);\n",
    "    return B1tt"
   ]
  },
  {
   "cell_type": "markdown",
   "id": "00c3e025",
   "metadata": {},
   "source": [
    "Now loop simulated events:<br>\n",
    "Number of simulated events are nev <br>\n",
    "=> rho make sure the random position on entrance aperture<br>\n",
    "=> for loop is used to create the event loop and information <br>\n",
    "=> while loop is used to make sure the randomized creation of co-ordinate lies within dimension of our apparatus.<br>\n",
    "=> B0 is the magnetic field by the ABS coil system at the begining <br>\n",
    "=> B1 is the magnetic field at any point of the solution<br>\n",
    "\n",
    "In this problem we are solving Bloch equation to obtain M:<br>\n",
    "$\\frac{dM(t)}{dt}=\\gamma (M(t) \\times B(t))$ <br>\n",
    "\n",
    "Finally, polarization:<br>\n",
    "Polarization = $\\frac{M.B}{|M||B|}$"
   ]
  },
  {
   "cell_type": "code",
   "execution_count": 8,
   "id": "2eaba48a",
   "metadata": {},
   "outputs": [
    {
     "name": "stdout",
     "output_type": "stream",
     "text": [
      "[  0.77419436  -1.69600317 250.        ]\n",
      "\n",
      "[7.82334553e-01 1.52492746e-01 2.50000000e+02]\n",
      "\n",
      "[ -0.59424779   1.22734099 250.        ]\n",
      "\n",
      "[  2.97676835   2.87867961 250.        ]\n",
      "\n",
      "[  2.68318629  -3.54048308 250.        ]\n",
      "\n",
      "[  2.63752022  -2.89181492 250.        ]\n",
      "\n",
      "[ -0.75371749   4.8200598  250.        ]\n",
      "\n",
      "[ -4.84210782   0.83036347 250.        ]\n",
      "\n",
      "[  0.82739375  -3.05250969 250.        ]\n",
      "\n",
      "[  2.71656551  -1.45238344 250.        ]\n",
      "\n",
      "[ 2.47250240e-01 -4.83369728e+00  2.50000000e+02]\n",
      "\n",
      "[  1.26321771   0.6725625  250.        ]\n",
      "\n",
      "[  2.50096642  -0.68282956 250.        ]\n",
      "\n",
      "[  1.84273162  -2.10896056 250.        ]\n",
      "\n",
      "[ -0.64798727  -2.91275279 250.        ]\n",
      "\n",
      "[  2.14870241  -1.69152959 250.        ]\n",
      "\n",
      "[  2.76602409  -0.81999928 250.        ]\n",
      "\n",
      "[  1.49339377   3.74692334 250.        ]\n",
      "\n",
      "[  1.41572271   4.45110319 250.        ]\n",
      "\n",
      "[ -4.43241633  -0.65710091 250.        ]\n",
      "\n",
      "[ -1.29310673   2.3384334  250.        ]\n",
      "\n",
      "[ -2.79985455  -1.44596377 250.        ]\n",
      "\n",
      "[ -2.06415876  -1.29608071 250.        ]\n",
      "\n",
      "[  3.06938545   3.30482766 250.        ]\n",
      "\n",
      "[ -4.39318868  -1.50101151 250.        ]\n",
      "\n",
      "[ 3.01850143e+00 -1.78790957e-01  2.50000000e+02]\n",
      "\n",
      "[ -0.79010902   3.8851461  250.        ]\n",
      "\n",
      "[  0.68755835   1.841159   250.        ]\n",
      "\n",
      "[ -2.16647639   3.66070148 250.        ]\n",
      "\n",
      "[ -3.37322674  -0.32882334 250.        ]\n",
      "\n",
      "[  3.36302013   2.07927314 250.        ]\n",
      "\n",
      "[  0.35903887   2.88081293 250.        ]\n",
      "\n",
      "[  0.94039292   2.95260393 250.        ]\n",
      "\n",
      "[ -3.33652187  -1.98215868 250.        ]\n",
      "\n",
      "[ -2.69570207  -2.88732263 250.        ]\n",
      "\n",
      "[ -0.34263664   4.84323644 250.        ]\n",
      "\n",
      "[  2.42023277  -3.84776764 250.        ]\n",
      "\n",
      "[ 3.57398757e-01 -1.99273603e-01  2.50000000e+02]\n",
      "\n",
      "[  0.49497273  -0.82398157 250.        ]\n",
      "\n",
      "[  0.7965943    2.33655583 250.        ]\n",
      "\n",
      "[ -4.18209492   1.73289173 250.        ]\n",
      "\n",
      "[  2.07578057   0.38332732 250.        ]\n",
      "\n",
      "[ -1.71075434  -1.18750984 250.        ]\n",
      "\n",
      "[  0.49645513  -4.16879242 250.        ]\n",
      "\n",
      "[-4.55481560e+00 -3.12822564e-02  2.50000000e+02]\n",
      "\n",
      "[  4.10883852   1.6839182  250.        ]\n",
      "\n",
      "[  4.18118379  -0.97703853 250.        ]\n",
      "\n",
      "[ -0.70471501   1.86185686 250.        ]\n",
      "\n",
      "[  2.86767173  -3.36991281 250.        ]\n",
      "\n",
      "[ -0.76534478  -2.29254274 250.        ]\n",
      "\n",
      "[ -0.6083926   -4.40396017 250.        ]\n",
      "\n",
      "[ -1.52348184  -3.2787996  250.        ]\n",
      "\n",
      "[  0.99828082   0.50070163 250.        ]\n",
      "\n",
      "[  2.89905045  -0.64006996 250.        ]\n",
      "\n",
      "[2.57941096e+00 7.74252392e-02 2.50000000e+02]\n",
      "\n",
      "[ -3.1167673    0.86608025 250.        ]\n",
      "\n",
      "[ -3.84699545   2.35498519 250.        ]\n",
      "\n",
      "[  1.73943192  -0.57996967 250.        ]\n",
      "\n",
      "[ 9.76690235e-01 -1.76411652e-01  2.50000000e+02]\n",
      "\n",
      "[ -1.50465038   2.27009377 250.        ]\n",
      "\n",
      "[  1.8195951    2.48934479 250.        ]\n",
      "\n",
      "[ -2.47114634  -3.59691745 250.        ]\n",
      "\n",
      "[  2.01431807  -1.79194224 250.        ]\n",
      "\n",
      "[-3.90634108e+00  2.98152387e-02  2.50000000e+02]\n",
      "\n",
      "[  4.47982067  -1.42906617 250.        ]\n",
      "\n",
      "[  2.92745394  -1.18232865 250.        ]\n",
      "\n",
      "[  1.10967714   3.29797585 250.        ]\n",
      "\n",
      "[-2.32836993e-01 -1.02257487e+00  2.50000000e+02]\n",
      "\n",
      "[-4.42318502e+00 -4.60115433e-02  2.50000000e+02]\n",
      "\n",
      "[ -3.20467219   1.32531722 250.        ]\n",
      "\n",
      "[ -2.80210568  -2.92029426 250.        ]\n",
      "\n",
      "[ -2.67614697  -1.85954624 250.        ]\n",
      "\n",
      "[  1.10997106   1.13471733 250.        ]\n",
      "\n",
      "[ -1.46772195   0.43902016 250.        ]\n",
      "\n",
      "[-5.06301923e-02  3.75586234e+00  2.50000000e+02]\n",
      "\n",
      "[  4.47634344  -0.97344296 250.        ]\n",
      "\n",
      "[ -0.85245775  -3.48054575 250.        ]\n",
      "\n",
      "[ -0.44405325   0.50102453 250.        ]\n",
      "\n",
      "[-1.58687756e-01 -2.15196132e+00  2.50000000e+02]\n",
      "\n",
      "[ -2.02288903  -2.81074648 250.        ]\n",
      "\n",
      "[  2.63670917  -2.13227757 250.        ]\n",
      "\n",
      "[ -1.38269047   4.06977664 250.        ]\n",
      "\n",
      "[  2.68929915   1.83508907 250.        ]\n",
      "\n",
      "[-1.98699829e-01 -4.20781671e+00  2.50000000e+02]\n",
      "\n",
      "[  2.31520859   3.94109721 250.        ]\n",
      "\n",
      "[ -0.32509301  -3.19978683 250.        ]\n",
      "\n",
      "[ -2.19321665  -3.31799218 250.        ]\n",
      "\n",
      "[ -3.17742899   1.16338622 250.        ]\n",
      "\n",
      "[ -2.55331462  -2.48045262 250.        ]\n",
      "\n",
      "[ -1.19280591  -4.78954804 250.        ]\n",
      "\n",
      "[ -4.16436284  -1.54926061 250.        ]\n",
      "\n",
      "[ -1.15859817  -3.71514097 250.        ]\n",
      "\n",
      "[2.94555715e+00 1.77358422e-01 2.50000000e+02]\n",
      "\n",
      "[  0.93396595   3.92967695 250.        ]\n",
      "\n",
      "[ -0.64449912   3.6726938  250.        ]\n",
      "\n",
      "[ -0.45734085   1.78882082 250.        ]\n",
      "\n",
      "[  3.01363595  -2.92041539 250.        ]\n",
      "\n",
      "[ -3.78758462  -0.26722907 250.        ]\n",
      "\n",
      "[  1.47510113   3.5875521  250.        ]\n",
      "\n"
     ]
    }
   ],
   "source": [
    "Pol=[];\n",
    "for n in range(1, nev):\n",
    "    #variables\n",
    "    rho=np.sqrt(random.random())*r0; \n",
    "    phi=random.random()*2*math.pi; # random position on entrance aperture\n",
    "    x0=[ rho*np.cos(phi), rho*np.sin(phi), z0 ]; \n",
    "    B0=ABC_Coil_CalculateB(x0[0],x0[1],x0[2],35,60,0.03,2.5);\n",
    "    #obtain norm of the magnetic field\n",
    "    B0t=np.linalg.norm(B0,axis=0);\n",
    "    \n",
    "    r=99999; \n",
    "    while(r>r1):  # choose random direction within exit aperture\n",
    "        ctheta=1-(1-np.cos(div))*random.random(); phi=random.random()*2*math.pi;\n",
    "        v1=(v3*math.sqrt(1-pow(ctheta,2))*np.cos(phi), v3*math.sqrt(1-pow(ctheta,2))*np.sin(phi), v3*ctheta );\n",
    "         \n",
    "        x1=np.array(x0)\n",
    "        v=np.array(v1)\n",
    "        t1=(z1-z0)/v[2];\n",
    "        x1=x0+(v*t1); \n",
    "        r=math.sqrt(x1[0]*x1[0] + x1[1]*x1[1]);\n",
    "    B1  = ABC_Coil_CalculateB(x1[0],x1[1],x1[2],35,60,0.03,2.5);\n",
    "    B1t = np.linalg.norm(B1,axis=0);\n",
    "    \n",
    "    #solve bloch equation using build-in function \n",
    "    sol = solve_ivp(lambda t, y: g*np.cross(y, Btm(x0,v,t)), [0,t1], B0/B0t, method=\"RK45\", rtol = 1e-5)\n",
    "    \n",
    "    #obtain last elemet of the array from the ode solution\n",
    "    Mx=sol.y[0][-1]\n",
    "    My=sol.y[1][-1]\n",
    "    Mz=sol.y[2][-1]\n",
    "    #norm of output vector of the ode\n",
    "    Mn=np.sqrt(Mx**2+My**2+Mz**2)\n",
    "    \n",
    "    #polarization is given by \n",
    "    pol=(B1[0]*Mx+B1[1]*My+B1[2]*Mz)/(Mn*B1t)\n",
    "    Pol.append(pol)"
   ]
  },
  {
   "cell_type": "markdown",
   "id": "2035c634",
   "metadata": {},
   "source": [
    "Now, We will get the mean and error.<br>\n",
    "we can also plot the distribution"
   ]
  },
  {
   "cell_type": "code",
   "execution_count": 9,
   "id": "21030ae7",
   "metadata": {},
   "outputs": [
    {
     "name": "stdout",
     "output_type": "stream",
     "text": [
      "0.9989362066235857\n",
      "0.00011362975818840753\n"
     ]
    }
   ],
   "source": [
    "print(np.mean(Pol))\n",
    "print(np.std(Pol)/np.sqrt(nev))"
   ]
  },
  {
   "cell_type": "code",
   "execution_count": 10,
   "id": "185857d0",
   "metadata": {},
   "outputs": [
    {
     "data": {
      "text/plain": [
       "<function matplotlib.pyplot.show(close=None, block=None)>"
      ]
     },
     "execution_count": 10,
     "metadata": {},
     "output_type": "execute_result"
    },
    {
     "data": {
      "image/png": "[encoded data removed]",
      "text/plain": [
       "<Figure size 432x288 with 1 Axes>"
      ]
     },
     "metadata": {
      "needs_background": "light"
     },
     "output_type": "display_data"
    }
   ],
   "source": [
    "plt.hist(Pol,100,range=[0.98,1.01]);\n",
    "plt.ylim([0, 30])\n",
    "plt.legend([\"mean = \"+str(\"{:.6f}\".format(np.mean(Pol)))+\" +/- \"+str(\"{:.6f}\".format(np.std(Pol)/np.sqrt(nev))) ] )\n",
    "plt.show"
   ]
  },
  {
   "cell_type": "code",
   "execution_count": 11,
   "id": "d1de5e8f",
   "metadata": {},
   "outputs": [
    {
     "name": "stdout",
     "output_type": "stream",
     "text": [
      "Running B2=10, B3=11, B5=35, B6=9 with 4 events in a loop\n"
     ]
    }
   ],
   "source": [
    "print(\"Running B2=\"+str(10)+\", B3=\"+str(11)+\", B5=\"+str(35)+\", B6=\"+str(9)+\" with \"+str(4)+\" events in a loop\")"
   ]
  },
  {
   "cell_type": "code",
   "execution_count": null,
   "id": "45a03ced",
   "metadata": {},
   "outputs": [],
   "source": []
  }
 ],
 "metadata": {
  "kernelspec": {
   "display_name": "Python 3 (ipykernel)",
   "language": "python",
   "name": "python3"
  },
  "language_info": {
   "codemirror_mode": {
    "name": "ipython",
    "version": 3
   },
   "file_extension": ".py",
   "mimetype": "text/x-python",
   "name": "python",
   "nbconvert_exporter": "python",
   "pygments_lexer": "ipython3",
   "version": "3.8.10"
  }
 },
 "nbformat": 4,
 "nbformat_minor": 5
}
