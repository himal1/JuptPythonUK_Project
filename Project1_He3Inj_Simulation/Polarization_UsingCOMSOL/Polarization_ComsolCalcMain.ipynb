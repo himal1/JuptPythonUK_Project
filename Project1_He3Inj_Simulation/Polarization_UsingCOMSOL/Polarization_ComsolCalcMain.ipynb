{
 "cells": [
  {
   "cell_type": "code",
   "execution_count": 1,
   "id": "76c626a7",
   "metadata": {},
   "outputs": [],
   "source": [
    "import numpy as np\n",
    "import math\n",
    "import pandas as pd\n",
    "import matplotlib.pyplot as plt\n",
    "#import random \n",
    "import scipy.integrate as spi\n",
    "from scipy.integrate import solve_ivp\n",
    "from scipy import interpolate\n",
    "from scipy.interpolate import UnivariateSpline\n",
    "import warnings"
   ]
  },
  {
   "cell_type": "code",
   "execution_count": 2,
   "id": "52ac1f4e",
   "metadata": {},
   "outputs": [],
   "source": [
    "%matplotlib inline\n",
    "#suppress warnings\n",
    "warnings.filterwarnings('ignore')"
   ]
  },
  {
   "cell_type": "markdown",
   "id": "ba937a11",
   "metadata": {},
   "source": [
    "All Required Functions:"
   ]
  },
  {
   "cell_type": "code",
   "execution_count": 3,
   "id": "9e183f55",
   "metadata": {},
   "outputs": [],
   "source": [
    "def ConstructAllData(T):\n",
    "    p=pd.read_csv(T,delim_whitespace=True)\n",
    "    df       = pd.DataFrame(p)\n",
    "    df_OtherHalf = df.rename(columns={'x': 'y','y': 'x'})\n",
    "    df_1stq=df.append(df_OtherHalf)\n",
    "    df_2ndq=df_1stq.copy()\n",
    "    df_2ndq.x=df_2ndq.x*-1\n",
    "    df_3rdq=df_2ndq.copy()\n",
    "    df_3rdq.y=df_3rdq.y*-1\n",
    "    df_4thq=df_1stq.copy()\n",
    "    df_4thq.y=df_4thq.y*-1\n",
    "    df_Final=pd.concat([df_1stq, df_2ndq, df_3rdq,df_4thq],ignore_index=True)\n",
    "    df_Final\n",
    "    return df_Final\n"
   ]
  },
  {
   "cell_type": "code",
   "execution_count": 4,
   "id": "a48dba3b",
   "metadata": {},
   "outputs": [
    {
     "data": {
      "text/plain": [
       "<matplotlib.collections.PathCollection at 0x7f3d2c2df3a0>"
      ]
     },
     "execution_count": 4,
     "metadata": {},
     "output_type": "execute_result"
    },
    {
     "data": {
      "image/png": "[encoded data removed]",
      "text/plain": [
       "<Figure size 432x288 with 1 Axes>"
      ]
     },
     "metadata": {
      "needs_background": "light"
     },
     "output_type": "display_data"
    }
   ],
   "source": [
    "Quad=\"MagneticFieldFromQuad_ABSMagnetSystemGrid.txt\"\n",
    "SIM=\"MagneticFieldFromSIM_ABSMagnetSystemGrid.txt\"\n",
    "T_Quad=ConstructAllData(Quad)\n",
    "T_SIM=ConstructAllData(SIM)\n",
    "pr=pd.read_csv(\"MagneticFieldFromRing_ABSMagnetSystemGrid.txt\",delim_whitespace=True)\n",
    "T_Ring = pd.DataFrame(pr)\n",
    "plt.scatter(T_Quad[\"z\"],(T_SIM[\"Bx\"]**2+T_SIM[\"By\"]**2+T_SIM[\"Bz\"]**2)**0.5)"
   ]
  },
  {
   "cell_type": "code",
   "execution_count": 5,
   "id": "52084e37",
   "metadata": {},
   "outputs": [],
   "source": [
    "def ObtainCorrespondingMagneticField(x0,v,t,T):\n",
    "    xt=[x0[0]+(v[0]*t),x0[1]+(v[1]*t),x0[2]+(v[2]*t)]\n",
    "    T[\"Del\"]=(((T[\"x\"]*100)-xt[0])**2+((T[\"y\"]*100)-xt[1])**2+(T[\"z\"]*100-xt[2])**2)**0.5\n",
    "    b=T[\"Del\"].idxmin()\n",
    "    a=T[\"Del\"].min()\n",
    "    if a>1.1:\n",
    "        print(\"Not working as expected\")\n",
    "    B=[T.iloc[b][\"Bx\"],T.iloc[b][\"By\"],T.iloc[b][\"Bz\"]]\n",
    "    return B"
   ]
  },
  {
   "cell_type": "code",
   "execution_count": 6,
   "id": "8ec867bb",
   "metadata": {},
   "outputs": [
    {
     "name": "stdout",
     "output_type": "stream",
     "text": [
      "20301 7879200 7879200\n"
     ]
    },
    {
     "data": {
      "image/png": "[encoded data removed]",
      "text/plain": [
       "<Figure size 432x288 with 1 Axes>"
      ]
     },
     "metadata": {
      "needs_background": "light"
     },
     "output_type": "display_data"
    }
   ],
   "source": [
    "#plt.scatter((T_Ring[\"z\"]-0.75)*-1,(T_Ring[\"Bz\"]**2+T_Ring[\"Br\"]**2)**0.5)\n",
    "#plt.scatter(T_Quad[\"z\"],(T_Quad[\"Bx\"]**2+T_Quad[\"By\"]**2+T_Quad[\"Bz\"]**2)**0.5)\n",
    "plt.scatter(T_SIM[\"z\"],(T_SIM[\"Bx\"]**2+T_SIM[\"By\"]**2+T_SIM[\"Bz\"]**2)**0.5)\n",
    "T_Ring[\"Bz\"].max()\n",
    "T_Ring[\"Bz\"].idxmax()\n",
    "print(len(T_Ring),len(T_Quad),len(T_SIM))"
   ]
  },
  {
   "cell_type": "code",
   "execution_count": 7,
   "id": "7d687be0",
   "metadata": {},
   "outputs": [
    {
     "data": {
      "text/plain": [
       "[7.32211666593134e-06, -7.3221166659313826e-06, -3.542547135906501e-21]"
      ]
     },
     "execution_count": 7,
     "metadata": {},
     "output_type": "execute_result"
    }
   ],
   "source": [
    "x=[0.002,0.004,0.01]\n",
    "v=[0,0,1]\n",
    "t=1\n",
    "ObtainCorrespondingMagneticField(x,v,t,T_SIM)"
   ]
  },
  {
   "cell_type": "code",
   "execution_count": 8,
   "id": "1b168e31",
   "metadata": {},
   "outputs": [
    {
     "data": {
      "text/plain": [
       "[-0.0410452398497061, 0.0410452398497061, 0.0]"
      ]
     },
     "execution_count": 8,
     "metadata": {},
     "output_type": "execute_result"
    }
   ],
   "source": [
    "ObtainCorrespondingMagneticField(x,v,t,T_Quad)"
   ]
  },
  {
   "cell_type": "code",
   "execution_count": 9,
   "id": "c401dfb7",
   "metadata": {},
   "outputs": [],
   "source": [
    "def ObtainCorreMagF_Ring(x0, v, t, T):\n",
    "    xt=[x0[0]+(v[0]*t),x0[1]+(v[1]*t),x0[2]+(v[2]*t)]\n",
    "    rt=(xt[0]**2+xt[1]**2)**0.5\n",
    "    T[\"Del\"]=(((T[\"r\"]*100)-rt)**2+((T[\"z\"]*100)-xt[2])**2)**0.5\n",
    "    b=T[\"Del\"].idxmin()\n",
    "    a=T[\"Del\"].min()\n",
    "    if a>1.05:\n",
    "        print(\"Not working as expected\")\n",
    "    Theta=math.atan2(xt[1],xt[0])\n",
    "    Br=T.iloc[b][\"Br\"]\n",
    "    Bz=T.iloc[b][\"Bz\"]\n",
    "    B=Br*np.cos(Theta),Br*np.sin(Theta),Bz\n",
    "    return B"
   ]
  },
  {
   "cell_type": "code",
   "execution_count": 10,
   "id": "95753a15",
   "metadata": {},
   "outputs": [
    {
     "data": {
      "text/plain": [
       "(5.437236338392151e-08, 1.0874472676784299e-07, 0.0015356293870945)"
      ]
     },
     "execution_count": 10,
     "metadata": {},
     "output_type": "execute_result"
    }
   ],
   "source": [
    "ObtainCorreMagF_Ring(x, v, t, T_Ring)"
   ]
  },
  {
   "cell_type": "code",
   "execution_count": 11,
   "id": "0b8dec55",
   "metadata": {},
   "outputs": [],
   "source": [
    "def CombineCorrespondingMagneticField(x0,v,t,T_Quad,T_SIM,T_Ring):\n",
    "    BQ=ObtainCorrespondingMagneticField(x0,v,t,T_Quad)\n",
    "    BS=ObtainCorrespondingMagneticField(x0,v,t,T_SIM)\n",
    "    BR=ObtainCorreMagF_Ring(x0, v, t, T_Ring)\n",
    "    BT=[BQ[0]+BS[0]+BR[0],BQ[1]+BS[1]+BR[1],BQ[2]+BS[2]+BR[2]]\n",
    "    return BT"
   ]
  },
  {
   "cell_type": "code",
   "execution_count": 12,
   "id": "1264b546",
   "metadata": {},
   "outputs": [
    {
     "data": {
      "text/plain": [
       "[-0.04103786336067679, 0.041038026477766935, 0.0015356293870945]"
      ]
     },
     "execution_count": 12,
     "metadata": {},
     "output_type": "execute_result"
    }
   ],
   "source": [
    "CombineCorrespondingMagneticField(x,v,t,T_Quad,T_SIM,T_Ring)"
   ]
  },
  {
   "cell_type": "code",
   "execution_count": 13,
   "id": "d86c5e6f",
   "metadata": {},
   "outputs": [],
   "source": [
    "def ObtainB0(x,T):\n",
    "    T[\"Del\"]=((T[\"x\"]*100-x[0])**2+(T[\"y\"]*100-x[1])**2+(T[\"z\"]*100-x[2])**2)**0.5\n",
    "    b=T[\"Del\"].idxmin()\n",
    "    a=T[\"Del\"].min()\n",
    "    if a>1.1:\n",
    "        print(\"Not working as expected\")\n",
    "    B_Q=[T.iloc[b][\"Bx\"],T.iloc[b][\"By\"],T.iloc[b][\"Bz\"]]\n",
    "    return B_Q"
   ]
  },
  {
   "cell_type": "code",
   "execution_count": 14,
   "id": "812abdaa",
   "metadata": {},
   "outputs": [
    {
     "data": {
      "text/plain": [
       "[9.694255531463276e-06, -9.694255531463276e-06, 0.0]"
      ]
     },
     "execution_count": 14,
     "metadata": {},
     "output_type": "execute_result"
    }
   ],
   "source": [
    "ObtainB0(x,T_SIM)"
   ]
  },
  {
   "cell_type": "code",
   "execution_count": 15,
   "id": "07629baa",
   "metadata": {},
   "outputs": [
    {
     "data": {
      "text/plain": [
       "[-0.8878273365847746, 0.8878273365847746, 0.0]"
      ]
     },
     "execution_count": 15,
     "metadata": {},
     "output_type": "execute_result"
    }
   ],
   "source": [
    "ObtainB0(x,T_Quad)"
   ]
  },
  {
   "cell_type": "code",
   "execution_count": 16,
   "id": "44f56291",
   "metadata": {},
   "outputs": [],
   "source": [
    "def ObtainB0_Ring(x,T):\n",
    "    rt=(x[0]**2+x[1]**2)**0.5\n",
    "    T[\"Del\"]=(((T[\"r\"]*100)-rt)**2+((T[\"z\"]*100)-x[2])**2)**0.5\n",
    "    b=T[\"Del\"].idxmin()\n",
    "    a=T[\"Del\"].min()\n",
    "    if a>1.05:\n",
    "        print(\"Not working as expected\")\n",
    "    Theta=math.atan2(x[1],x[0])\n",
    "    Br=T.iloc[b][\"Br\"]\n",
    "    Bz=T.iloc[b][\"Bz\"]\n",
    "    B=[Br*np.cos(Theta),Br*np.sin(Theta),Bz]\n",
    "    return B"
   ]
  },
  {
   "cell_type": "code",
   "execution_count": 17,
   "id": "67e3116d",
   "metadata": {},
   "outputs": [
    {
     "data": {
      "text/plain": [
       "[-2.0828488214343668e-07, -4.1656976428687325e-07, 0.0014281018913727]"
      ]
     },
     "execution_count": 17,
     "metadata": {},
     "output_type": "execute_result"
    }
   ],
   "source": [
    " ObtainB0_Ring(x,T_Ring)"
   ]
  },
  {
   "cell_type": "code",
   "execution_count": 18,
   "id": "245b7d32",
   "metadata": {},
   "outputs": [],
   "source": [
    "def CombineB0(x,T_Quad,T_SIM,T_Ring):\n",
    "    BQ=ObtainB0(x,T_Quad)\n",
    "    BS=ObtainB0(x,T_SIM)\n",
    "    BR=ObtainB0_Ring(x,T_Ring)\n",
    "    BT=[BQ[0]+BS[0]+BR[0],BQ[1]+BS[1]+BR[1],BQ[2]+BS[2]+BR[2]]\n",
    "    return BT"
   ]
  },
  {
   "cell_type": "code",
   "execution_count": 19,
   "id": "2b8355b9",
   "metadata": {},
   "outputs": [
    {
     "data": {
      "text/plain": [
       "[-0.8878178506141253, 0.887817225759479, 0.0014281018913727]"
      ]
     },
     "execution_count": 19,
     "metadata": {},
     "output_type": "execute_result"
    }
   ],
   "source": [
    "CombineB0(x,T_Quad,T_SIM,T_Ring)"
   ]
  },
  {
   "cell_type": "code",
   "execution_count": 20,
   "id": "14398d8e",
   "metadata": {},
   "outputs": [],
   "source": [
    "#start work to calculate polarization\n",
    "#intial parameters\n",
    "g=20378.9; v3=22000;\n",
    "z0=62.5;#initial position before exit of the quad\n",
    "#z0=50;#try new one\n",
    "r0=0.629;\n",
    "z1=200;\n",
    "r1=6.985;\n",
    "num_points=2;\n",
    "div=(r1+r0)/(z1-z0);\n",
    "Pol=[]; \n",
    "r0=0.629;"
   ]
  },
  {
   "cell_type": "code",
   "execution_count": 21,
   "id": "0dbb27a1",
   "metadata": {},
   "outputs": [
    {
     "ename": "KeyboardInterrupt",
     "evalue": "",
     "output_type": "error",
     "traceback": [
      "\u001b[0;31m---------------------------------------------------------------------------\u001b[0m",
      "\u001b[0;31mKeyboardInterrupt\u001b[0m                         Traceback (most recent call last)",
      "Input \u001b[0;32mIn [21]\u001b[0m, in \u001b[0;36m<module>\u001b[0;34m\u001b[0m\n\u001b[1;32m     56\u001b[0m plt\u001b[38;5;241m.\u001b[39mplot(T_i, spl3(T_i), \u001b[38;5;124m'\u001b[39m\u001b[38;5;124mb\u001b[39m\u001b[38;5;124m'\u001b[39m, lw \u001b[38;5;241m=\u001b[39m \u001b[38;5;241m1\u001b[39m)\n\u001b[1;32m     57\u001b[0m \u001b[38;5;66;03m#spl.set_smoothing_factor(1e-5)\u001b[39;00m\n\u001b[1;32m     58\u001b[0m \u001b[38;5;66;03m#Now solve the differential equation\u001b[39;00m\n\u001b[1;32m     59\u001b[0m \n\u001b[1;32m     60\u001b[0m \u001b[38;5;66;03m#sol = solve_ivp(lambda t, y: g*np.cross(y,  CombineCorrespondingMagneticField(x0,v,t,T_Quad,T_SIM,T_Ring)), [0,t1], B0/B0t, method=\"RK45\", rtol = 1e-5)\u001b[39;00m\n\u001b[0;32m---> 61\u001b[0m sol \u001b[38;5;241m=\u001b[39m \u001b[43msolve_ivp\u001b[49m\u001b[43m(\u001b[49m\u001b[38;5;28;43;01mlambda\u001b[39;49;00m\u001b[43m \u001b[49m\u001b[43mt\u001b[49m\u001b[43m,\u001b[49m\u001b[43m \u001b[49m\u001b[43my\u001b[49m\u001b[43m:\u001b[49m\u001b[43m \u001b[49m\u001b[43mg\u001b[49m\u001b[38;5;241;43m*\u001b[39;49m\u001b[43mnp\u001b[49m\u001b[38;5;241;43m.\u001b[39;49m\u001b[43mcross\u001b[49m\u001b[43m(\u001b[49m\u001b[43my\u001b[49m\u001b[43m,\u001b[49m\u001b[43m \u001b[49m\u001b[43m[\u001b[49m\u001b[43mspl1\u001b[49m\u001b[43m(\u001b[49m\u001b[43mt\u001b[49m\u001b[43m)\u001b[49m\u001b[43m,\u001b[49m\u001b[43mspl2\u001b[49m\u001b[43m(\u001b[49m\u001b[43mt\u001b[49m\u001b[43m)\u001b[49m\u001b[43m,\u001b[49m\u001b[43mspl3\u001b[49m\u001b[43m(\u001b[49m\u001b[43mt\u001b[49m\u001b[43m)\u001b[49m\u001b[43m]\u001b[49m\u001b[43m)\u001b[49m\u001b[43m,\u001b[49m\u001b[43m \u001b[49m\u001b[43m[\u001b[49m\u001b[38;5;241;43m0\u001b[39;49m\u001b[43m,\u001b[49m\u001b[43mt1\u001b[49m\u001b[43m]\u001b[49m\u001b[43m,\u001b[49m\u001b[43m \u001b[49m\u001b[43mB0\u001b[49m\u001b[38;5;241;43m/\u001b[39;49m\u001b[43mB0t\u001b[49m\u001b[43m,\u001b[49m\u001b[43m \u001b[49m\u001b[43mmethod\u001b[49m\u001b[38;5;241;43m=\u001b[39;49m\u001b[38;5;124;43m\"\u001b[39;49m\u001b[38;5;124;43mRK45\u001b[39;49m\u001b[38;5;124;43m\"\u001b[39;49m\u001b[43m,\u001b[49m\u001b[43m \u001b[49m\u001b[43mrtol\u001b[49m\u001b[43m \u001b[49m\u001b[38;5;241;43m=\u001b[39;49m\u001b[43m \u001b[49m\u001b[38;5;241;43m1e-5\u001b[39;49m\u001b[43m)\u001b[49m\n\u001b[1;32m     63\u001b[0m \u001b[38;5;66;03m#obtain last elemet of the array from the ode solution\u001b[39;00m\n\u001b[1;32m     64\u001b[0m Mx\u001b[38;5;241m=\u001b[39msol\u001b[38;5;241m.\u001b[39my[\u001b[38;5;241m0\u001b[39m][\u001b[38;5;241m-\u001b[39m\u001b[38;5;241m1\u001b[39m]\n",
      "File \u001b[0;32m~/.local/lib/python3.8/site-packages/scipy/integrate/_ivp/ivp.py:576\u001b[0m, in \u001b[0;36msolve_ivp\u001b[0;34m(fun, t_span, y0, method, t_eval, dense_output, events, vectorized, args, **options)\u001b[0m\n\u001b[1;32m    574\u001b[0m status \u001b[38;5;241m=\u001b[39m \u001b[38;5;28;01mNone\u001b[39;00m\n\u001b[1;32m    575\u001b[0m \u001b[38;5;28;01mwhile\u001b[39;00m status \u001b[38;5;129;01mis\u001b[39;00m \u001b[38;5;28;01mNone\u001b[39;00m:\n\u001b[0;32m--> 576\u001b[0m     message \u001b[38;5;241m=\u001b[39m \u001b[43msolver\u001b[49m\u001b[38;5;241;43m.\u001b[39;49m\u001b[43mstep\u001b[49m\u001b[43m(\u001b[49m\u001b[43m)\u001b[49m\n\u001b[1;32m    578\u001b[0m     \u001b[38;5;28;01mif\u001b[39;00m solver\u001b[38;5;241m.\u001b[39mstatus \u001b[38;5;241m==\u001b[39m \u001b[38;5;124m'\u001b[39m\u001b[38;5;124mfinished\u001b[39m\u001b[38;5;124m'\u001b[39m:\n\u001b[1;32m    579\u001b[0m         status \u001b[38;5;241m=\u001b[39m \u001b[38;5;241m0\u001b[39m\n",
      "File \u001b[0;32m~/.local/lib/python3.8/site-packages/scipy/integrate/_ivp/base.py:181\u001b[0m, in \u001b[0;36mOdeSolver.step\u001b[0;34m(self)\u001b[0m\n\u001b[1;32m    179\u001b[0m \u001b[38;5;28;01melse\u001b[39;00m:\n\u001b[1;32m    180\u001b[0m     t \u001b[38;5;241m=\u001b[39m \u001b[38;5;28mself\u001b[39m\u001b[38;5;241m.\u001b[39mt\n\u001b[0;32m--> 181\u001b[0m     success, message \u001b[38;5;241m=\u001b[39m \u001b[38;5;28;43mself\u001b[39;49m\u001b[38;5;241;43m.\u001b[39;49m\u001b[43m_step_impl\u001b[49m\u001b[43m(\u001b[49m\u001b[43m)\u001b[49m\n\u001b[1;32m    183\u001b[0m     \u001b[38;5;28;01mif\u001b[39;00m \u001b[38;5;129;01mnot\u001b[39;00m success:\n\u001b[1;32m    184\u001b[0m         \u001b[38;5;28mself\u001b[39m\u001b[38;5;241m.\u001b[39mstatus \u001b[38;5;241m=\u001b[39m \u001b[38;5;124m'\u001b[39m\u001b[38;5;124mfailed\u001b[39m\u001b[38;5;124m'\u001b[39m\n",
      "File \u001b[0;32m~/.local/lib/python3.8/site-packages/scipy/integrate/_ivp/rk.py:144\u001b[0m, in \u001b[0;36mRungeKutta._step_impl\u001b[0;34m(self)\u001b[0m\n\u001b[1;32m    141\u001b[0m h \u001b[38;5;241m=\u001b[39m t_new \u001b[38;5;241m-\u001b[39m t\n\u001b[1;32m    142\u001b[0m h_abs \u001b[38;5;241m=\u001b[39m np\u001b[38;5;241m.\u001b[39mabs(h)\n\u001b[0;32m--> 144\u001b[0m y_new, f_new \u001b[38;5;241m=\u001b[39m \u001b[43mrk_step\u001b[49m\u001b[43m(\u001b[49m\u001b[38;5;28;43mself\u001b[39;49m\u001b[38;5;241;43m.\u001b[39;49m\u001b[43mfun\u001b[49m\u001b[43m,\u001b[49m\u001b[43m \u001b[49m\u001b[43mt\u001b[49m\u001b[43m,\u001b[49m\u001b[43m \u001b[49m\u001b[43my\u001b[49m\u001b[43m,\u001b[49m\u001b[43m \u001b[49m\u001b[38;5;28;43mself\u001b[39;49m\u001b[38;5;241;43m.\u001b[39;49m\u001b[43mf\u001b[49m\u001b[43m,\u001b[49m\u001b[43m \u001b[49m\u001b[43mh\u001b[49m\u001b[43m,\u001b[49m\u001b[43m \u001b[49m\u001b[38;5;28;43mself\u001b[39;49m\u001b[38;5;241;43m.\u001b[39;49m\u001b[43mA\u001b[49m\u001b[43m,\u001b[49m\n\u001b[1;32m    145\u001b[0m \u001b[43m                       \u001b[49m\u001b[38;5;28;43mself\u001b[39;49m\u001b[38;5;241;43m.\u001b[39;49m\u001b[43mB\u001b[49m\u001b[43m,\u001b[49m\u001b[43m \u001b[49m\u001b[38;5;28;43mself\u001b[39;49m\u001b[38;5;241;43m.\u001b[39;49m\u001b[43mC\u001b[49m\u001b[43m,\u001b[49m\u001b[43m \u001b[49m\u001b[38;5;28;43mself\u001b[39;49m\u001b[38;5;241;43m.\u001b[39;49m\u001b[43mK\u001b[49m\u001b[43m)\u001b[49m\n\u001b[1;32m    146\u001b[0m scale \u001b[38;5;241m=\u001b[39m atol \u001b[38;5;241m+\u001b[39m np\u001b[38;5;241m.\u001b[39mmaximum(np\u001b[38;5;241m.\u001b[39mabs(y), np\u001b[38;5;241m.\u001b[39mabs(y_new)) \u001b[38;5;241m*\u001b[39m rtol\n\u001b[1;32m    147\u001b[0m error_norm \u001b[38;5;241m=\u001b[39m \u001b[38;5;28mself\u001b[39m\u001b[38;5;241m.\u001b[39m_estimate_error_norm(\u001b[38;5;28mself\u001b[39m\u001b[38;5;241m.\u001b[39mK, h, scale)\n",
      "File \u001b[0;32m~/.local/lib/python3.8/site-packages/scipy/integrate/_ivp/rk.py:64\u001b[0m, in \u001b[0;36mrk_step\u001b[0;34m(fun, t, y, f, h, A, B, C, K)\u001b[0m\n\u001b[1;32m     62\u001b[0m \u001b[38;5;28;01mfor\u001b[39;00m s, (a, c) \u001b[38;5;129;01min\u001b[39;00m \u001b[38;5;28menumerate\u001b[39m(\u001b[38;5;28mzip\u001b[39m(A[\u001b[38;5;241m1\u001b[39m:], C[\u001b[38;5;241m1\u001b[39m:]), start\u001b[38;5;241m=\u001b[39m\u001b[38;5;241m1\u001b[39m):\n\u001b[1;32m     63\u001b[0m     dy \u001b[38;5;241m=\u001b[39m np\u001b[38;5;241m.\u001b[39mdot(K[:s]\u001b[38;5;241m.\u001b[39mT, a[:s]) \u001b[38;5;241m*\u001b[39m h\n\u001b[0;32m---> 64\u001b[0m     K[s] \u001b[38;5;241m=\u001b[39m \u001b[43mfun\u001b[49m\u001b[43m(\u001b[49m\u001b[43mt\u001b[49m\u001b[43m \u001b[49m\u001b[38;5;241;43m+\u001b[39;49m\u001b[43m \u001b[49m\u001b[43mc\u001b[49m\u001b[43m \u001b[49m\u001b[38;5;241;43m*\u001b[39;49m\u001b[43m \u001b[49m\u001b[43mh\u001b[49m\u001b[43m,\u001b[49m\u001b[43m \u001b[49m\u001b[43my\u001b[49m\u001b[43m \u001b[49m\u001b[38;5;241;43m+\u001b[39;49m\u001b[43m \u001b[49m\u001b[43mdy\u001b[49m\u001b[43m)\u001b[49m\n\u001b[1;32m     66\u001b[0m y_new \u001b[38;5;241m=\u001b[39m y \u001b[38;5;241m+\u001b[39m h \u001b[38;5;241m*\u001b[39m np\u001b[38;5;241m.\u001b[39mdot(K[:\u001b[38;5;241m-\u001b[39m\u001b[38;5;241m1\u001b[39m]\u001b[38;5;241m.\u001b[39mT, B)\n\u001b[1;32m     67\u001b[0m f_new \u001b[38;5;241m=\u001b[39m fun(t \u001b[38;5;241m+\u001b[39m h, y_new)\n",
      "File \u001b[0;32m~/.local/lib/python3.8/site-packages/scipy/integrate/_ivp/base.py:138\u001b[0m, in \u001b[0;36mOdeSolver.__init__.<locals>.fun\u001b[0;34m(t, y)\u001b[0m\n\u001b[1;32m    136\u001b[0m \u001b[38;5;28;01mdef\u001b[39;00m \u001b[38;5;21mfun\u001b[39m(t, y):\n\u001b[1;32m    137\u001b[0m     \u001b[38;5;28mself\u001b[39m\u001b[38;5;241m.\u001b[39mnfev \u001b[38;5;241m+\u001b[39m\u001b[38;5;241m=\u001b[39m \u001b[38;5;241m1\u001b[39m\n\u001b[0;32m--> 138\u001b[0m     \u001b[38;5;28;01mreturn\u001b[39;00m \u001b[38;5;28;43mself\u001b[39;49m\u001b[38;5;241;43m.\u001b[39;49m\u001b[43mfun_single\u001b[49m\u001b[43m(\u001b[49m\u001b[43mt\u001b[49m\u001b[43m,\u001b[49m\u001b[43m \u001b[49m\u001b[43my\u001b[49m\u001b[43m)\u001b[49m\n",
      "File \u001b[0;32m~/.local/lib/python3.8/site-packages/scipy/integrate/_ivp/base.py:20\u001b[0m, in \u001b[0;36mcheck_arguments.<locals>.fun_wrapped\u001b[0;34m(t, y)\u001b[0m\n\u001b[1;32m     19\u001b[0m \u001b[38;5;28;01mdef\u001b[39;00m \u001b[38;5;21mfun_wrapped\u001b[39m(t, y):\n\u001b[0;32m---> 20\u001b[0m     \u001b[38;5;28;01mreturn\u001b[39;00m np\u001b[38;5;241m.\u001b[39masarray(\u001b[43mfun\u001b[49m\u001b[43m(\u001b[49m\u001b[43mt\u001b[49m\u001b[43m,\u001b[49m\u001b[43m \u001b[49m\u001b[43my\u001b[49m\u001b[43m)\u001b[49m, dtype\u001b[38;5;241m=\u001b[39mdtype)\n",
      "Input \u001b[0;32mIn [21]\u001b[0m, in \u001b[0;36m<lambda>\u001b[0;34m(t, y)\u001b[0m\n\u001b[1;32m     56\u001b[0m plt\u001b[38;5;241m.\u001b[39mplot(T_i, spl3(T_i), \u001b[38;5;124m'\u001b[39m\u001b[38;5;124mb\u001b[39m\u001b[38;5;124m'\u001b[39m, lw \u001b[38;5;241m=\u001b[39m \u001b[38;5;241m1\u001b[39m)\n\u001b[1;32m     57\u001b[0m \u001b[38;5;66;03m#spl.set_smoothing_factor(1e-5)\u001b[39;00m\n\u001b[1;32m     58\u001b[0m \u001b[38;5;66;03m#Now solve the differential equation\u001b[39;00m\n\u001b[1;32m     59\u001b[0m \n\u001b[1;32m     60\u001b[0m \u001b[38;5;66;03m#sol = solve_ivp(lambda t, y: g*np.cross(y,  CombineCorrespondingMagneticField(x0,v,t,T_Quad,T_SIM,T_Ring)), [0,t1], B0/B0t, method=\"RK45\", rtol = 1e-5)\u001b[39;00m\n\u001b[0;32m---> 61\u001b[0m sol \u001b[38;5;241m=\u001b[39m solve_ivp(\u001b[38;5;28;01mlambda\u001b[39;00m t, y: g\u001b[38;5;241m*\u001b[39mnp\u001b[38;5;241m.\u001b[39mcross(y, [\u001b[43mspl1\u001b[49m\u001b[43m(\u001b[49m\u001b[43mt\u001b[49m\u001b[43m)\u001b[49m,spl2(t),spl3(t)]), [\u001b[38;5;241m0\u001b[39m,t1], B0\u001b[38;5;241m/\u001b[39mB0t, method\u001b[38;5;241m=\u001b[39m\u001b[38;5;124m\"\u001b[39m\u001b[38;5;124mRK45\u001b[39m\u001b[38;5;124m\"\u001b[39m, rtol \u001b[38;5;241m=\u001b[39m \u001b[38;5;241m1e-5\u001b[39m)\n\u001b[1;32m     63\u001b[0m \u001b[38;5;66;03m#obtain last elemet of the array from the ode solution\u001b[39;00m\n\u001b[1;32m     64\u001b[0m Mx\u001b[38;5;241m=\u001b[39msol\u001b[38;5;241m.\u001b[39my[\u001b[38;5;241m0\u001b[39m][\u001b[38;5;241m-\u001b[39m\u001b[38;5;241m1\u001b[39m]\n",
      "File \u001b[0;32m~/.local/lib/python3.8/site-packages/scipy/interpolate/fitpack2.py:362\u001b[0m, in \u001b[0;36mUnivariateSpline.__call__\u001b[0;34m(self, x, nu, ext)\u001b[0m\n\u001b[1;32m    360\u001b[0m     \u001b[38;5;28;01mexcept\u001b[39;00m \u001b[38;5;167;01mKeyError\u001b[39;00m \u001b[38;5;28;01mas\u001b[39;00m e:\n\u001b[1;32m    361\u001b[0m         \u001b[38;5;28;01mraise\u001b[39;00m \u001b[38;5;167;01mValueError\u001b[39;00m(\u001b[38;5;124m\"\u001b[39m\u001b[38;5;124mUnknown extrapolation mode \u001b[39m\u001b[38;5;132;01m%s\u001b[39;00m\u001b[38;5;124m.\u001b[39m\u001b[38;5;124m\"\u001b[39m \u001b[38;5;241m%\u001b[39m ext) \u001b[38;5;28;01mfrom\u001b[39;00m \u001b[38;5;21;01me\u001b[39;00m\n\u001b[0;32m--> 362\u001b[0m \u001b[38;5;28;01mreturn\u001b[39;00m \u001b[43mfitpack\u001b[49m\u001b[38;5;241;43m.\u001b[39;49m\u001b[43msplev\u001b[49m\u001b[43m(\u001b[49m\u001b[43mx\u001b[49m\u001b[43m,\u001b[49m\u001b[43m \u001b[49m\u001b[38;5;28;43mself\u001b[39;49m\u001b[38;5;241;43m.\u001b[39;49m\u001b[43m_eval_args\u001b[49m\u001b[43m,\u001b[49m\u001b[43m \u001b[49m\u001b[43mder\u001b[49m\u001b[38;5;241;43m=\u001b[39;49m\u001b[43mnu\u001b[49m\u001b[43m,\u001b[49m\u001b[43m \u001b[49m\u001b[43mext\u001b[49m\u001b[38;5;241;43m=\u001b[39;49m\u001b[43mext\u001b[49m\u001b[43m)\u001b[49m\n",
      "File \u001b[0;32m~/.local/lib/python3.8/site-packages/scipy/interpolate/fitpack.py:374\u001b[0m, in \u001b[0;36msplev\u001b[0;34m(x, tck, der, ext)\u001b[0m\n\u001b[1;32m    372\u001b[0m     \u001b[38;5;28;01mreturn\u001b[39;00m tck(x, der, extrapolate\u001b[38;5;241m=\u001b[39mextrapolate)\n\u001b[1;32m    373\u001b[0m \u001b[38;5;28;01melse\u001b[39;00m:\n\u001b[0;32m--> 374\u001b[0m     \u001b[38;5;28;01mreturn\u001b[39;00m \u001b[43m_impl\u001b[49m\u001b[38;5;241;43m.\u001b[39;49m\u001b[43msplev\u001b[49m\u001b[43m(\u001b[49m\u001b[43mx\u001b[49m\u001b[43m,\u001b[49m\u001b[43m \u001b[49m\u001b[43mtck\u001b[49m\u001b[43m,\u001b[49m\u001b[43m \u001b[49m\u001b[43mder\u001b[49m\u001b[43m,\u001b[49m\u001b[43m \u001b[49m\u001b[43mext\u001b[49m\u001b[43m)\u001b[49m\n",
      "File \u001b[0;32m~/.local/lib/python3.8/site-packages/scipy/interpolate/_fitpack_impl.py:594\u001b[0m, in \u001b[0;36msplev\u001b[0;34m(x, tck, der, ext)\u001b[0m\n\u001b[1;32m    592\u001b[0m x \u001b[38;5;241m=\u001b[39m asarray(x)\n\u001b[1;32m    593\u001b[0m shape \u001b[38;5;241m=\u001b[39m x\u001b[38;5;241m.\u001b[39mshape\n\u001b[0;32m--> 594\u001b[0m x \u001b[38;5;241m=\u001b[39m \u001b[43matleast_1d\u001b[49m\u001b[43m(\u001b[49m\u001b[43mx\u001b[49m\u001b[43m)\u001b[49m\u001b[38;5;241m.\u001b[39mravel()\n\u001b[1;32m    595\u001b[0m y, ier \u001b[38;5;241m=\u001b[39m _fitpack\u001b[38;5;241m.\u001b[39m_spl_(x, der, t, c, k, ext)\n\u001b[1;32m    597\u001b[0m \u001b[38;5;28;01mif\u001b[39;00m ier \u001b[38;5;241m==\u001b[39m \u001b[38;5;241m10\u001b[39m:\n",
      "File \u001b[0;32m<__array_function__ internals>:177\u001b[0m, in \u001b[0;36matleast_1d\u001b[0;34m(*args, **kwargs)\u001b[0m\n",
      "\u001b[0;31mKeyboardInterrupt\u001b[0m: "
     ]
    },
    {
     "data": {
      "image/png": "[encoded data removed]",
      "text/plain": [
       "<Figure size 432x288 with 1 Axes>"
      ]
     },
     "metadata": {
      "needs_background": "light"
     },
     "output_type": "display_data"
    }
   ],
   "source": [
    "for n in range (1,num_points):\n",
    "    \n",
    "    phi = np.random.uniform(0,2*np.pi)\n",
    "    rho=np.sqrt(np.random.uniform(0,1))*r0\n",
    "    #rho=9999;\n",
    "    #while (abs(rho)>r0):\n",
    "    #    rho = np.random.normal(loc = 0, scale = 0.25, size = 1)*r0\n",
    "\n",
    "    x0=[ rho*np.cos(phi), rho*np.sin(phi), z0 ];\n",
    "    \n",
    "    B0=CombineB0(x0,T_Quad,T_SIM,T_Ring);\n",
    "    #obtain norm of the magnetic field\n",
    "    B0t=np.linalg.norm(B0,axis=0);\n",
    "    \n",
    "    r=99999; \n",
    "    #make sure the generated values are within the radius of the pipe.\n",
    "    while(r>r1):  \n",
    "        ctheta=1-(1-np.cos(div))*np.random.uniform(0,1);\n",
    "        v1=(v3*math.sqrt(1-pow(ctheta,2))*np.cos(phi), v3*math.sqrt(1-pow(ctheta,2))*np.sin(phi), v3*ctheta );\n",
    "        x1=np.array(x0)\n",
    "        v=np.array(v1)\n",
    "        t1=(z1-z0)/v[2];\n",
    "        x1=x0+(v*t1);\n",
    "        #r=3;\n",
    "        r2 = np.sqrt(x0[0]*x0[0] + x0[1]*x0[1]);\n",
    "        r = np.sqrt(x1[0]*x1[0] + x1[1]*x1[1]);\n",
    "    B1=CombineB0(x1,T_Quad,T_SIM,T_Ring);\n",
    "    B1t = np.linalg.norm(B1,axis=0);\n",
    "   \n",
    "    #print(x1)\n",
    "    #plt.scatter(B1[0],x1[1])\n",
    "    t_i=0\n",
    "    #print(t1)\n",
    "    initial_int=0;\n",
    "    final_int=101;\n",
    "    B1x=[];\n",
    "    B1y=[];\n",
    "    B1z=[];\n",
    "    T_i=[];\n",
    "    for t in range (initial_int, final_int,1):\n",
    "        step=t1/(final_int-initial_int-1) #difference time /difference in range\n",
    "        ti=t*step\n",
    "        x_i=x0+(v*ti)\n",
    "        B_i=CombineB0(x_i,T_Quad,T_SIM,T_Ring);\n",
    "        #print(B_i,x_i[2])\n",
    "        T_i.append(ti)\n",
    "        B1x.append(B_i[0])\n",
    "        B1y.append(B_i[1])\n",
    "        B1z.append(B_i[2])\n",
    "    spl1 = UnivariateSpline(T_i,B1x)\n",
    "    spl2 = UnivariateSpline(T_i,B1y)\n",
    "    spl3 = UnivariateSpline(T_i,B1z)\n",
    "    \n",
    "    plt.plot(T_i, spl1(T_i), 'g', lw = 1)\n",
    "    plt.plot(T_i, spl2(T_i), 'r', lw = 1)\n",
    "    plt.plot(T_i, spl3(T_i), 'b', lw = 1)\n",
    "    #spl.set_smoothing_factor(1e-5)\n",
    "    #Now solve the differential equation\n",
    "    \n",
    "    #sol = solve_ivp(lambda t, y: g*np.cross(y,  CombineCorrespondingMagneticField(x0,v,t,T_Quad,T_SIM,T_Ring)), [0,t1], B0/B0t, method=\"RK45\", rtol = 1e-5)\n",
    "    sol = solve_ivp(lambda t, y: g*np.cross(y, [spl1(t),spl2(t),spl3(t)]), [0,t1], B0/B0t, method=\"RK45\", rtol = 1e-5)\n",
    "    \n",
    "    #obtain last elemet of the array from the ode solution\n",
    "    Mx=sol.y[0][-1]\n",
    "    My=sol.y[1][-1]\n",
    "    Mz=sol.y[2][-1]\n",
    "    #norm of output vector of the ode\n",
    "    Mn=np.sqrt(Mx**2+My**2+Mz**2)\n",
    "    \n",
    "    #polarization is given by \n",
    "    pol=(B1[0]*Mx+B1[1]*My+B1[2]*Mz)/(Mn*B1t)\n",
    "    Pol.append(pol)\n",
    "    #B1xnp=np.array(B1x)\n",
    "    #df_B = pd.DataFrame() \n",
    "    #df_B['Bnp'] = B1xnp.tolist()\n",
    "    #df_B=pd.Dataframe(B1xnp)\n",
    "    #B1x_Interp=df_B['Bnp'].interpolate(method='spline',order=3)\n",
    "    #B1x_Interp.plot()"
   ]
  },
  {
   "cell_type": "code",
   "execution_count": null,
   "id": "10a02f00",
   "metadata": {},
   "outputs": [],
   "source": [
    "plt.hist(Pol,10,range=[-1.0,1.01]);\n",
    "plt.ylim([0, 130])\n",
    "plt.legend([\"mean = \"+str(\"{:.6f}\".format(np.mean(Pol)))+\" +/- \"+str(\"{:.6f}\".format(np.std(Pol)/np.sqrt(num_points))) ] )\n",
    "plt.show"
   ]
  },
  {
   "cell_type": "code",
   "execution_count": null,
   "id": "e3c5f1d0",
   "metadata": {},
   "outputs": [],
   "source": []
  }
 ],
 "metadata": {
  "kernelspec": {
   "display_name": "Python 3 (ipykernel)",
   "language": "python",
   "name": "python3"
  },
  "language_info": {
   "codemirror_mode": {
    "name": "ipython",
    "version": 3
   },
   "file_extension": ".py",
   "mimetype": "text/x-python",
   "name": "python",
   "nbconvert_exporter": "python",
   "pygments_lexer": "ipython3",
   "version": "3.8.10"
  }
 },
 "nbformat": 4,
 "nbformat_minor": 5
}
