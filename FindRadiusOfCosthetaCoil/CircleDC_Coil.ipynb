{
 "cells": [
  {
   "cell_type": "code",
   "execution_count": 1,
   "id": "df97e2bb",
   "metadata": {},
   "outputs": [],
   "source": [
    "import numpy as np\n",
    "from scipy import optimize\n",
    "from scipy.optimize import curve_fit\n",
    "import pandas as pd\n",
    "import matplotlib.pyplot as plt\n",
    "from scipy.stats import norm\n",
    "from pylab import figure, plot, xlabel, grid, legend, title, savefig\n",
    "from scipy.interpolate import interp1d"
   ]
  },
  {
   "cell_type": "code",
   "execution_count": 2,
   "id": "a85560c7",
   "metadata": {},
   "outputs": [],
   "source": [
    "def cirlce_DC_Coil(x, A, B, C):#change this to function you want\n",
    "    y = B - ( C**2 - (x-A)**2 )**0.5\n",
    "    return y"
   ]
  },
  {
   "cell_type": "code",
   "execution_count": 3,
   "id": "b1176d14",
   "metadata": {},
   "outputs": [],
   "source": [
    "Cylin='/mnt/c/Users/Christopher Crawford/Desktop/OneFace.txt'"
   ]
  },
  {
   "cell_type": "code",
   "execution_count": 4,
   "id": "d21cb066",
   "metadata": {},
   "outputs": [],
   "source": [
    "pc=pd.read_csv(Cylin,delim_whitespace=True)\n",
    "T_Cy1 = pd.DataFrame(pc)\n",
    "T_Cy=T_Cy1.dropna()\n",
    "T_Cy=T_Cy.reset_index(drop=True)\n",
    "ContourLevel=T_Cy['IsoLevel'].unique()\n",
    "tot=len(ContourLevel)"
   ]
  },
  {
   "cell_type": "code",
   "execution_count": 5,
   "id": "d95d4a05",
   "metadata": {},
   "outputs": [
    {
     "data": {
      "text/html": [
       "<div>\n",
       "<style scoped>\n",
       "    .dataframe tbody tr th:only-of-type {\n",
       "        vertical-align: middle;\n",
       "    }\n",
       "\n",
       "    .dataframe tbody tr th {\n",
       "        vertical-align: top;\n",
       "    }\n",
       "\n",
       "    .dataframe thead th {\n",
       "        text-align: right;\n",
       "    }\n",
       "</style>\n",
       "<table border=\"1\" class=\"dataframe\">\n",
       "  <thead>\n",
       "    <tr style=\"text-align: right;\">\n",
       "      <th></th>\n",
       "      <th>x</th>\n",
       "      <th>y</th>\n",
       "      <th>z</th>\n",
       "      <th>IsoLevel</th>\n",
       "    </tr>\n",
       "  </thead>\n",
       "  <tbody>\n",
       "    <tr>\n",
       "      <th>0</th>\n",
       "      <td>3.979255</td>\n",
       "      <td>-0.493283</td>\n",
       "      <td>0</td>\n",
       "      <td>-1050.422727</td>\n",
       "    </tr>\n",
       "    <tr>\n",
       "      <th>1</th>\n",
       "      <td>3.976578</td>\n",
       "      <td>-0.503798</td>\n",
       "      <td>0</td>\n",
       "      <td>-1050.422727</td>\n",
       "    </tr>\n",
       "    <tr>\n",
       "      <th>2</th>\n",
       "      <td>3.979402</td>\n",
       "      <td>-0.492701</td>\n",
       "      <td>0</td>\n",
       "      <td>-1050.422727</td>\n",
       "    </tr>\n",
       "    <tr>\n",
       "      <th>3</th>\n",
       "      <td>3.960309</td>\n",
       "      <td>-0.563205</td>\n",
       "      <td>0</td>\n",
       "      <td>-1050.422727</td>\n",
       "    </tr>\n",
       "    <tr>\n",
       "      <th>4</th>\n",
       "      <td>3.960260</td>\n",
       "      <td>-0.563376</td>\n",
       "      <td>0</td>\n",
       "      <td>-1050.422727</td>\n",
       "    </tr>\n",
       "    <tr>\n",
       "      <th>...</th>\n",
       "      <td>...</td>\n",
       "      <td>...</td>\n",
       "      <td>...</td>\n",
       "      <td>...</td>\n",
       "    </tr>\n",
       "    <tr>\n",
       "      <th>57236</th>\n",
       "      <td>-3.963107</td>\n",
       "      <td>0.553484</td>\n",
       "      <td>0</td>\n",
       "      <td>1050.422714</td>\n",
       "    </tr>\n",
       "    <tr>\n",
       "      <th>57237</th>\n",
       "      <td>-3.965905</td>\n",
       "      <td>0.543572</td>\n",
       "      <td>0</td>\n",
       "      <td>1050.422714</td>\n",
       "    </tr>\n",
       "    <tr>\n",
       "      <th>57238</th>\n",
       "      <td>-3.968654</td>\n",
       "      <td>0.533636</td>\n",
       "      <td>0</td>\n",
       "      <td>1050.422714</td>\n",
       "    </tr>\n",
       "    <tr>\n",
       "      <th>57239</th>\n",
       "      <td>-3.971354</td>\n",
       "      <td>0.523678</td>\n",
       "      <td>0</td>\n",
       "      <td>1050.422714</td>\n",
       "    </tr>\n",
       "    <tr>\n",
       "      <th>57240</th>\n",
       "      <td>-3.974005</td>\n",
       "      <td>0.513696</td>\n",
       "      <td>0</td>\n",
       "      <td>1050.422714</td>\n",
       "    </tr>\n",
       "  </tbody>\n",
       "</table>\n",
       "<p>57241 rows × 4 columns</p>\n",
       "</div>"
      ],
      "text/plain": [
       "              x         y  z     IsoLevel\n",
       "0      3.979255 -0.493283  0 -1050.422727\n",
       "1      3.976578 -0.503798  0 -1050.422727\n",
       "2      3.979402 -0.492701  0 -1050.422727\n",
       "3      3.960309 -0.563205  0 -1050.422727\n",
       "4      3.960260 -0.563376  0 -1050.422727\n",
       "...         ...       ... ..          ...\n",
       "57236 -3.963107  0.553484  0  1050.422714\n",
       "57237 -3.965905  0.543572  0  1050.422714\n",
       "57238 -3.968654  0.533636  0  1050.422714\n",
       "57239 -3.971354  0.523678  0  1050.422714\n",
       "57240 -3.974005  0.513696  0  1050.422714\n",
       "\n",
       "[57241 rows x 4 columns]"
      ]
     },
     "execution_count": 5,
     "metadata": {},
     "output_type": "execute_result"
    }
   ],
   "source": [
    "T_Cy[\"x\"]=T_Cy[\"x\"]*100\n",
    "T_Cy[\"y\"]=T_Cy[\"y\"]*100\n",
    "T_Cy[\"z\"]=T_Cy[\"z\"]*100\n",
    "\n",
    "#T_Cy=T_Cy.round(6)\n",
    "T_Cy.duplicated().any()\n",
    "T_Cy"
   ]
  },
  {
   "cell_type": "code",
   "execution_count": 6,
   "id": "20533c5d",
   "metadata": {},
   "outputs": [
    {
     "data": {
      "text/plain": [
       "<matplotlib.collections.PathCollection at 0x7f7c196d0910>"
      ]
     },
     "execution_count": 6,
     "metadata": {},
     "output_type": "execute_result"
    },
    {
     "data": {
      "image/png": "[encoded data removed]",
      "text/plain": [
       "<Figure size 720x720 with 1 Axes>"
      ]
     },
     "metadata": {
      "needs_background": "light"
     },
     "output_type": "display_data"
    }
   ],
   "source": [
    "#plot the selected data\n",
    "df = T_Cy.loc[(T_Cy['IsoLevel']==-1050.4227274310444)]\n",
    "figure(1, figsize=(10, 10))\n",
    "#plt.xlim(3.5,4.5)\n",
    "plt.scatter(df[\"x\"],df[\"y\"], color='r')"
   ]
  },
  {
   "cell_type": "code",
   "execution_count": 7,
   "id": "e11dc883",
   "metadata": {},
   "outputs": [],
   "source": [
    "#define required function to fit a circle\n",
    "def calc_R(xc, yc):\n",
    "    \"\"\" calculate the distance of each 2D points from the center (xc, yc) \"\"\"\n",
    "    return np.sqrt((x-xc)**2 + (y-yc)**2)\n",
    "\n",
    "def f_2(c):\n",
    "    \"\"\" calculate the algebraic distance between the data points and the mean circle centered at c=(xc, yc) \"\"\"\n",
    "    Ri = calc_R(*c)\n",
    "    return Ri - Ri.mean()"
   ]
  },
  {
   "cell_type": "code",
   "execution_count": 25,
   "id": "13f074b3",
   "metadata": {},
   "outputs": [],
   "source": [
    "X_1=[]\n",
    "X_2=[]\n",
    "R =[]\n",
    "N=[]\n",
    "for i in range (0, tot):\n",
    "    method_2 = \"leastsq\"\n",
    "    df = T_Cy.loc[(T_Cy['IsoLevel']==ContourLevel[i])]\n",
    "    #print(ContourLevel[i])\n",
    "    x=df['x']\n",
    "    y=df['y']\n",
    "    x_m=np.mean(df['x'])\n",
    "    y_m=np.mean(df['y'])\n",
    "\n",
    "\n",
    "\n",
    "    center_estimate = x_m, y_m\n",
    "    center_2, ier = optimize.leastsq(f_2, center_estimate)\n",
    "\n",
    "    xc_2, yc_2 = center_2\n",
    "    Ri_2       = calc_R(*center_2)\n",
    "    R_2        = Ri_2.mean()\n",
    "    residu_2   = sum((Ri_2 - R_2)**2)\n",
    "    #print(\"For : {} the radius of the circle is {},and center is ({},{})\".format(i+1,R_2,xc_2,yc_2))\n",
    "    X_1.append(xc_2)\n",
    "    X_2.append(yc_2)\n",
    "    R.append(R_2)\n",
    "    N.append(i)"
   ]
  },
  {
   "cell_type": "code",
   "execution_count": 40,
   "id": "cb7afc32",
   "metadata": {},
   "outputs": [
    {
     "data": {
      "text/plain": [
       "(0.0, 50.0)"
      ]
     },
     "execution_count": 40,
     "metadata": {},
     "output_type": "execute_result"
    },
    {
     "data": {
      "image/png": "[encoded data removed]",
      "text/plain": [
       "<Figure size 432x288 with 1 Axes>"
      ]
     },
     "metadata": {
      "needs_background": "light"
     },
     "output_type": "display_data"
    }
   ],
   "source": [
    "plt.plot(R,'o');\n",
    "plt.ylim(0,200)\n",
    "plt.xlim(0,50)"
   ]
  },
  {
   "cell_type": "code",
   "execution_count": 9,
   "id": "8e8cc38b",
   "metadata": {},
   "outputs": [
    {
     "name": "stdout",
     "output_type": "stream",
     "text": [
      "The radius of the circle fitted is 2.020184548214481 with center (-2.0202220146379855,3.8793749991647054e-07)\n"
     ]
    }
   ],
   "source": [
    "print(\"The radius of the circle fitted is {} with center ({},{})\".format(R_2,xc_2,yc_2))"
   ]
  },
  {
   "cell_type": "code",
   "execution_count": 17,
   "id": "c1b482af",
   "metadata": {},
   "outputs": [],
   "source": [
    "#plt.plot(df['x'], df['y'], 'o', label='data')\n",
    "#plt.plot(df['x'], cirlce_DC_Coil(df['x'],xc_2,yc_2,R_2), '-', label='fit_Total',lw=3)\n",
    "#plt.legend()\n",
    "#plot is half because the function \"cirlce_DC_Coil\" is defined one sided"
   ]
  },
  {
   "cell_type": "code",
   "execution_count": null,
   "id": "af038237",
   "metadata": {},
   "outputs": [],
   "source": []
  }
 ],
 "metadata": {
  "kernelspec": {
   "display_name": "Python 3 (ipykernel)",
   "language": "python",
   "name": "python3"
  },
  "language_info": {
   "codemirror_mode": {
    "name": "ipython",
    "version": 3
   },
   "file_extension": ".py",
   "mimetype": "text/x-python",
   "name": "python",
   "nbconvert_exporter": "python",
   "pygments_lexer": "ipython3",
   "version": "3.8.10"
  }
 },
 "nbformat": 4,
 "nbformat_minor": 5
}
